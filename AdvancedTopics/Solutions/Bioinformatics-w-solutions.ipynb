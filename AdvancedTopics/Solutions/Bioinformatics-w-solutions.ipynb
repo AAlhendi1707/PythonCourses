{
 "cells": [
  {
   "cell_type": "markdown",
   "metadata": {},
   "source": [
    "<img style=\"float: right;\" src=\"http://www2.le.ac.uk/liscb1.jpg\">\n",
    "# Bioinformatics in Python"
   ]
  },
  {
   "cell_type": "markdown",
   "metadata": {},
   "source": [
    "Written by Teri Forey"
   ]
  },
  {
   "cell_type": "markdown",
   "metadata": {},
   "source": [
    "As well as python libraries that work with numerical data, people have also built libraries that work on biological data. Specifically DNA/protein sequences and SAM/BAM alignment files. These libraries are [Biopython](http://biopython.org/) and [pysam](http://pysam.readthedocs.io/en/latest/index.html) respectively."
   ]
  },
  {
   "cell_type": "markdown",
   "metadata": {},
   "source": [
    "## 1. Biopython\n",
    "\n",
    "Biopython is the main python library that parses and reads sequence files. There are two main objects the `Seq` object that contains the DNA/RNA/protein sequence itself and the `SeqRecord` object that contains additional information such as an ID. We'll first look at creating a `Seq` object. "
   ]
  },
  {
   "cell_type": "markdown",
   "metadata": {},
   "source": [
    "### 1.1 Seq\n",
    "We'll first import the Seq class that's contained within Bio.Seq"
   ]
  },
  {
   "cell_type": "code",
   "execution_count": null,
   "metadata": {},
   "outputs": [],
   "source": [
    "from Bio.Seq import Seq"
   ]
  },
  {
   "cell_type": "markdown",
   "metadata": {},
   "source": [
    "We can create a Seq object simply by typing in the sequence as a string."
   ]
  },
  {
   "cell_type": "code",
   "execution_count": null,
   "metadata": {},
   "outputs": [],
   "source": [
    "my_seq = Seq(\"ATGGCATCGATTCGATGCTAGGCTAGCTAG\")\n",
    "my_seq"
   ]
  },
  {
   "cell_type": "markdown",
   "metadata": {},
   "source": [
    "When this object is printed to screen, it contains the sequence but also an Alphabet. At the moment this alphabet is just a default basic alphabet as Biopython doesn't know whether the sequence is DNA or protein. If you know this information when you create a Seq object, you should supply it."
   ]
  },
  {
   "cell_type": "code",
   "execution_count": null,
   "metadata": {},
   "outputs": [],
   "source": [
    "from Bio.Alphabet import generic_dna, generic_protein\n",
    "\n",
    "my_dna = Seq(\"ATCGATGCAGGCTAG\", generic_dna)\n",
    "my_dna"
   ]
  },
  {
   "cell_type": "code",
   "execution_count": null,
   "metadata": {},
   "outputs": [],
   "source": [
    "my_protein = Seq('ATCGATGCAGGCTAG', generic_protein)\n",
    "my_protein"
   ]
  },
  {
   "cell_type": "markdown",
   "metadata": {},
   "source": [
    "If these alphabets are set, it means a lot of biologically sensible errors will be caught. For example, you wouldn't be able to combine a DNA and protein sequence."
   ]
  },
  {
   "cell_type": "code",
   "execution_count": null,
   "metadata": {
    "scrolled": true
   },
   "outputs": [],
   "source": [
    "my_dna + my_protein"
   ]
  },
  {
   "cell_type": "markdown",
   "metadata": {},
   "source": [
    "### 1.2 Seq Methods\n",
    "\n",
    "The Seq object contains some generic methods that are common to all strings, as well as methods that are unique to nucleotide sequences. A few examples of these are demonstrated below. "
   ]
  },
  {
   "cell_type": "code",
   "execution_count": null,
   "metadata": {},
   "outputs": [],
   "source": [
    "# Use the string method find() to locate the start of a particular sequence\n",
    "my_dna.find('AGG')"
   ]
  },
  {
   "cell_type": "code",
   "execution_count": null,
   "metadata": {},
   "outputs": [],
   "source": [
    "# print the reverse complement sequence\n",
    "my_dna.reverse_complement()"
   ]
  },
  {
   "cell_type": "code",
   "execution_count": null,
   "metadata": {},
   "outputs": [],
   "source": [
    "# Translate the sequence into protein. \n",
    "# Note this will only translate the forward strand and will assume the whole sequence is coding! \n",
    "my_dna.translate()"
   ]
  },
  {
   "cell_type": "code",
   "execution_count": null,
   "metadata": {},
   "outputs": [],
   "source": [
    "# Translate will not work on a protein sequence\n",
    "my_protein.translate()"
   ]
  },
  {
   "cell_type": "markdown",
   "metadata": {},
   "source": [
    "### 1.3 SeqRecord\n",
    "\n",
    "A SeqRecord object contains a Seq object, as well as additional information."
   ]
  },
  {
   "cell_type": "code",
   "execution_count": null,
   "metadata": {},
   "outputs": [],
   "source": [
    "from Bio.Seq import Seq\n",
    "from Bio.SeqRecord import SeqRecord\n",
    "from Bio.Alphabet import IUPAC\n",
    "\n",
    "record = SeqRecord(Seq(\"MKQHKAMIVALIVICITAVVAALVTRKDLCEVHIRTGQTEVAVF\",\n",
    "                       IUPAC.protein),\n",
    "                   id=\"YP_025292.1\", name=\"HokC\",\n",
    "                   description=\"toxic membrane protein, small\")\n",
    "print(record)"
   ]
  },
  {
   "cell_type": "markdown",
   "metadata": {},
   "source": [
    "As you can see, we've assigned the sequence, ID, name and description. Printing the record outputs this information in a human readable format.\n",
    "\n",
    "### 1.4 SeqIO\n",
    "\n",
    "It's unlikely you'll often create these SeqRecords by hand though, you'll most often be reading them in from a file. For that, you need to import the SeqIO function. There's an example GenBank file in `data/`, we'll import this and print a few pieces of information for each sequence in the file."
   ]
  },
  {
   "cell_type": "code",
   "execution_count": null,
   "metadata": {},
   "outputs": [],
   "source": [
    "from Bio import SeqIO\n",
    "\n",
    "# We have to specify the filename and the format\n",
    "for record in SeqIO.parse(\"../data/sequence.gb\", 'genbank'):\n",
    "    print(\"ID: %s\\tName: %s\\tSequence Length: %s\" % (record.id, record.name, len(record.seq)))"
   ]
  },
  {
   "cell_type": "markdown",
   "metadata": {},
   "source": [
    "There is only one sequence in this file, we can see all of the information by printing the whole record."
   ]
  },
  {
   "cell_type": "code",
   "execution_count": null,
   "metadata": {},
   "outputs": [],
   "source": [
    "print(record)"
   ]
  },
  {
   "cell_type": "markdown",
   "metadata": {},
   "source": [
    "There is a lot of information here! Different file formats contain different information, so what you see here won't match what you'll see from a FASTA format file for example. Almost all of the sequence file formats you'll come across working with biological sequences are supported by Biopython, have a look at their documentation for more information.\n",
    "\n",
    "Importantly when working with a SeqRecord object, you can access the underlying Seq object - and therefore all of the methods that come with it!"
   ]
  },
  {
   "cell_type": "code",
   "execution_count": null,
   "metadata": {},
   "outputs": [],
   "source": [
    "record.seq"
   ]
  },
  {
   "cell_type": "code",
   "execution_count": null,
   "metadata": {},
   "outputs": [],
   "source": [
    "record.seq.reverse_complement()"
   ]
  },
  {
   "cell_type": "code",
   "execution_count": null,
   "metadata": {},
   "outputs": [],
   "source": [
    "# Note that to print the whole sequence you need to use print() or convert it to a string\n",
    "print(record.seq)\n",
    "str(record.seq)"
   ]
  },
  {
   "cell_type": "markdown",
   "metadata": {},
   "source": [
    "There are lots of methods and attributes associated with a SeqRecord object, you can use the python function dir() to list them as strings. Those that start with and underscore ('_') are internal methods and shouldn't be used."
   ]
  },
  {
   "cell_type": "code",
   "execution_count": null,
   "metadata": {},
   "outputs": [],
   "source": [
    "dir(record)"
   ]
  },
  {
   "cell_type": "markdown",
   "metadata": {},
   "source": [
    "## Exercise 1\n",
    "\n",
    "Read in the file `data/multiple_sequences.gb`, write a for loop that will parse the contents of the genbank file outputting each sequence in FASTA format. Print a count of how many sequences are in that file.\n",
    "\n",
    "#### Bonus \n",
    "Calculate the mean length of the sequences.\n",
    "\n",
    "#### Bonus\n",
    "Write a function that returns the N50, and use it to calculate the N50 of the sequences"
   ]
  },
  {
   "cell_type": "code",
   "execution_count": null,
   "metadata": {},
   "outputs": [],
   "source": [
    "from Bio import SeqIO\n",
    "\n",
    "count = 0\n",
    "for record in SeqIO.parse(\"../data/multiple_sequences.gb\", 'genbank'):\n",
    "    print(record.format('fasta'))\n",
    "    count += 1\n",
    "\n",
    "print(\"Count: %s\" % count)\n",
    "\n",
    "#OR\n",
    "#for record in SeqIO.parse(\"data/multiple_sequences.gb\", 'genbank'):\n",
    "#    print(\">\"+record.id)\n",
    "#    print(str(record.seq))"
   ]
  },
  {
   "cell_type": "code",
   "execution_count": null,
   "metadata": {},
   "outputs": [],
   "source": [
    "import numpy as np\n",
    "\n",
    "def n50(lens):\n",
    "    h = sum(lens)/2        # half the total length\n",
    "    t = 0                  # running total\n",
    "    for l in sorted(lens): # need to sort the list of sequence lengths\n",
    "        t += l             # add the length to the running total\n",
    "        if t >= h:         # if the running total is greater than or equal half of the total length\n",
    "            return l       # return the length of the sequence (N50)\n",
    "        \n",
    "\n",
    "seqlens = []\n",
    "\n",
    "for record in SeqIO.parse(\"../data/multiple_sequences.gb\", 'genbank'):\n",
    "    seqlens.append(len(record.seq))\n",
    "\n",
    "print(\"Mean:\", sum(seqlens)/len(seqlens))\n",
    "print(\"Numpy mean:\", np.mean(np.array(seqlens)))\n",
    "print(\"N50:\", n50(seqlens))"
   ]
  },
  {
   "cell_type": "markdown",
   "metadata": {},
   "source": [
    "### 1.5 BioAlign\n",
    "\n",
    "Another Biopython object that proves very useful in analysing biological data is the Align object that can store alignment data. As with SeqRecord objects you can use AlignIO.parse() to read from a file. To demonstrate other functionality we'll create an alignment by hand."
   ]
  },
  {
   "cell_type": "code",
   "execution_count": null,
   "metadata": {},
   "outputs": [],
   "source": [
    "from Bio.Align import MultipleSeqAlignment\n",
    "\n",
    "aln = MultipleSeqAlignment([\n",
    "             SeqRecord(Seq(\"ACTGCTAGCTAG\", generic_dna), id=\"Alpha\"),\n",
    "             SeqRecord(Seq(\"ACT-CTAGCTAG\", generic_dna), id=\"Beta\"),\n",
    "             SeqRecord(Seq(\"ACTGCTAGDTAG\", generic_dna), id=\"Gamma\"),\n",
    "         ])\n",
    "\n",
    "print(aln)"
   ]
  },
  {
   "cell_type": "code",
   "execution_count": null,
   "metadata": {},
   "outputs": [],
   "source": [
    "# You can then print this alignment in a different format\n",
    "print(aln.format('clustal'))"
   ]
  },
  {
   "cell_type": "code",
   "execution_count": null,
   "metadata": {},
   "outputs": [],
   "source": [
    "# You can also select which rows and columns to print as you would using numpy\n",
    "print(aln[:2])\n",
    "\n",
    "print(aln[1: , 3:])"
   ]
  },
  {
   "cell_type": "markdown",
   "metadata": {},
   "source": [
    "## pysam\n",
    "\n",
    "Another library specifically written for biological data is pysam. This library is useful for reading and filtering SAM/BAM format files. "
   ]
  },
  {
   "cell_type": "code",
   "execution_count": null,
   "metadata": {},
   "outputs": [],
   "source": [
    "import pysam"
   ]
  },
  {
   "cell_type": "markdown",
   "metadata": {},
   "source": [
    "pysam includes functions for reading in sam, cram and bam files."
   ]
  },
  {
   "cell_type": "code",
   "execution_count": null,
   "metadata": {},
   "outputs": [],
   "source": [
    "samfile = pysam.AlignmentFile('../data/ex1.bam', 'rb') # 'rb' stands for 'read bam', use 'rs' if the input is a sam file"
   ]
  },
  {
   "cell_type": "markdown",
   "metadata": {},
   "source": [
    "You can select reads that map to a particular region in the reference using `fetch()`."
   ]
  },
  {
   "cell_type": "code",
   "execution_count": null,
   "metadata": {
    "scrolled": false
   },
   "outputs": [],
   "source": [
    "for read in samfile.fetch('chr1', 100, 110):\n",
    "    print(read)\n"
   ]
  },
  {
   "cell_type": "markdown",
   "metadata": {},
   "source": [
    "You can also look over a particular region by using the `pileup()` method. In this case, you retrieve information on each column in the range provided."
   ]
  },
  {
   "cell_type": "code",
   "execution_count": null,
   "metadata": {},
   "outputs": [],
   "source": [
    "for pileupcolumn in samfile.pileup(\"chr1\", 100, 120):\n",
    "    print (\"\\ncoverage at base %s = %s\" %\n",
    "           (pileupcolumn.pos, pileupcolumn.n))\n",
    "    for pileupread in pileupcolumn.pileups:\n",
    "        if not pileupread.is_del and not pileupread.is_refskip:\n",
    "            # query position is None if is_del or is_refskip is set.\n",
    "            print ('\\tbase in read %s = %s' %\n",
    "                  (pileupread.alignment.query_name,\n",
    "                   pileupread.alignment.query_sequence[pileupread.query_position]))"
   ]
  },
  {
   "cell_type": "markdown",
   "metadata": {},
   "source": [
    "`pysam` even allows you to run samtools commands within python. \n",
    "\n",
    "*Note*: the following will only work if samtools is loaded into the virtual environment."
   ]
  },
  {
   "cell_type": "code",
   "execution_count": null,
   "metadata": {},
   "outputs": [],
   "source": [
    "pysam.sort(\"-o\", \"../data/ex1.sorted.bam\", \"../data/ex1.bam\")\n",
    "! ls -ltrh ../data/*.bam"
   ]
  },
  {
   "cell_type": "markdown",
   "metadata": {},
   "source": [
    "## Exercise 2\n",
    "\n",
    "Using `pysam` count the number of reads that map properly in pairs to chromosome 1.\n",
    "\n",
    "#### Bonus\n",
    "Count the reads that map perfectly (i.e. no indels or mismatches) to chromosome 1. Hint - have a look at the SAM cigar"
   ]
  },
  {
   "cell_type": "code",
   "execution_count": null,
   "metadata": {},
   "outputs": [],
   "source": [
    "tot = 0\n",
    "count = 0\n",
    "for read in samfile.fetch('chr1'):\n",
    "    tot += 1\n",
    "    if read.is_proper_pair:\n",
    "        count += 1\n",
    "\n",
    "print(\"All reads:\", tot)\n",
    "print(\"Properly paired reads: {0} ({1:.2f}%)\".format(count, count/tot*100))\n"
   ]
  },
  {
   "cell_type": "code",
   "execution_count": null,
   "metadata": {},
   "outputs": [],
   "source": [
    "tot = 0\n",
    "count =0\n",
    "for read in samfile.fetch('chr1'):\n",
    "    tot += 1\n",
    "    if str(read.query_length) + 'M' == read.cigarstring:\n",
    "        count += 1\n",
    "\n",
    "print(\"All reads:\", tot)\n",
    "print(\"Properly paired reads: {0} ({1:.2f}%)\".format(count, count/tot*100))"
   ]
  }
 ],
 "metadata": {
  "kernelspec": {
   "display_name": "Python 3",
   "language": "python",
   "name": "python3"
  },
  "language_info": {
   "codemirror_mode": {
    "name": "ipython",
    "version": 3
   },
   "file_extension": ".py",
   "mimetype": "text/x-python",
   "name": "python",
   "nbconvert_exporter": "python",
   "pygments_lexer": "ipython3",
   "version": "3.6.4"
  }
 },
 "nbformat": 4,
 "nbformat_minor": 2
}
