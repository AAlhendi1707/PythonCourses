{
 "cells": [
  {
   "cell_type": "markdown",
   "metadata": {},
   "source": [
    "<img style=\"float: right;\" src=\"http://www2.le.ac.uk/liscb1.jpg\">\n",
    "# Objects"
   ]
  },
  {
   "cell_type": "markdown",
   "metadata": {},
   "source": [
    "We've already discussed how Python is an object-orientated language and that you've been using objects since the beginning. For example, a string is an object, as is a dictionary. Each object has it's own methods, that allow you to print or calculate related values. \n",
    "\n",
    "In this notebook we'll introduce you to how you can create your own objects, add methods and create multiple instances of the object. "
   ]
  },
  {
   "cell_type": "markdown",
   "metadata": {},
   "source": [
    "## Classes\n",
    "In Python an object is called a class, and that's the key-word used to create an object. For this example we'll create an object that describes a hotel. "
   ]
  },
  {
   "cell_type": "code",
   "execution_count": null,
   "metadata": {},
   "outputs": [],
   "source": [
    "class Hotel:\n",
    "    num_rooms = 20\n",
    "    \n",
    "myhotel = Hotel()\n",
    "print(myhotel.num_rooms)"
   ]
  },
  {
   "cell_type": "markdown",
   "metadata": {},
   "source": [
    "In this simple example we create a class called `Hotel`, class names should generally begin with a capital letter to distinguish them from functions or variables. Inside this class we're setting a variable that contains the number of rooms. \n",
    "\n",
    "After creating this class, we then assign a variable (`myhotel`) to contain an instance of the Hotel class. We can then print the number of rooms in this hotel. Each instance of a class can contain different values."
   ]
  },
  {
   "cell_type": "code",
   "execution_count": null,
   "metadata": {},
   "outputs": [],
   "source": [
    "mysecondhotel = Hotel()\n",
    "mysecondhotel.num_rooms = 40\n",
    "print(mysecondhotel.num_rooms, myhotel.num_rooms)"
   ]
  },
  {
   "cell_type": "markdown",
   "metadata": {},
   "source": [
    "### Methods\n",
    "Each class can also contain methods. These are class specific functions that allow you to perform a task using variables specific to the class instance. The first argument that is always passed to a function is a special variable called `self`, this variable describes the current instance of the class. It allows you to use value specific to that instance."
   ]
  },
  {
   "cell_type": "code",
   "execution_count": null,
   "metadata": {},
   "outputs": [],
   "source": [
    "class Hotel:\n",
    "    num_rooms = 20\n",
    "    available_rooms = 10\n",
    "    \n",
    "    def book_room(self):\n",
    "        self.available_rooms -= 1\n",
    "\n",
    "myhotel = Hotel()\n",
    "myhotel.available_rooms = 5\n",
    "myhotel.book_room()\n",
    "print(myhotel.available_rooms)"
   ]
  },
  {
   "cell_type": "markdown",
   "metadata": {},
   "source": [
    "In the Hotel class above we've added a new variable that describes the number of available rooms. We've then created a function, `book_room` that subtracts 1 from the number of available rooms. Notice that because it uses `self.available_rooms`, we're subtracting one from the number of available rooms _specific to that instance_. Hence why the final value is 4 and not 9."
   ]
  },
  {
   "cell_type": "markdown",
   "metadata": {},
   "source": [
    "### Initialization\n",
    "Instead of hardcoding the number of hotel rooms, and then changing that value after creating each instance we can instead ask for this value when creating (initializing) each instance. To do that we need a add a special method to our class called `__init__`. As with other methods, the first argument is `self`"
   ]
  },
  {
   "cell_type": "code",
   "execution_count": null,
   "metadata": {},
   "outputs": [],
   "source": [
    "class Hotel:\n",
    "    def __init__(self, tot_rooms, aval_rooms):\n",
    "        self.num_rooms = tot_rooms\n",
    "        self.available_rooms = aval_rooms\n",
    "    \n",
    "    def book_room(self):\n",
    "        self.available_rooms -= 1\n",
    "        \n",
    "myhotel = Hotel(32, 12)\n",
    "print(myhotel.num_rooms)\n",
    "myhotel.book_room()\n",
    "print(myhotel.available_rooms)"
   ]
  },
  {
   "cell_type": "markdown",
   "metadata": {},
   "source": [
    "Now, when we create a new instance of the Hotel class we have to pass in two variables, the total number of rooms and the number of available rooms. These are assigned to `self.num_rooms` and `self.available_rooms` respectively. Any variable that's unique to each instance should be created like this. Variables created outside of the `__init__` function will be shared across instances. "
   ]
  },
  {
   "cell_type": "code",
   "execution_count": null,
   "metadata": {},
   "outputs": [],
   "source": [
    "class Hotel:\n",
    "    staff = []\n",
    "    \n",
    "    def __init__(self, tot_rooms, aval_rooms):\n",
    "        self.num_rooms = tot_rooms\n",
    "        self.available_rooms = aval_rooms\n",
    "    \n",
    "    def book_room(self):\n",
    "        self.available_rooms -= 1\n",
    "\n",
    "hotel1 = Hotel(32,12)\n",
    "hotel2 = Hotel(21,1)\n",
    "hotel1.staff.append(\"Steve\")\n",
    "hotel2.staff.append(\"Lisa\")\n",
    "print(hotel1.staff)"
   ]
  },
  {
   "cell_type": "code",
   "execution_count": null,
   "metadata": {},
   "outputs": [],
   "source": [
    "class Hotel:\n",
    "    def __init__(self, tot_rooms, aval_rooms):\n",
    "        self.num_rooms = tot_rooms\n",
    "        self.available_rooms = aval_rooms\n",
    "        self.staff = []\n",
    "    \n",
    "    def book_room(self):\n",
    "        self.available_rooms -= 1\n",
    "\n",
    "hotel1 = Hotel(32,12)\n",
    "hotel2 = Hotel(21,1)\n",
    "hotel1.staff.append(\"Steve\")\n",
    "hotel2.staff.append(\"Lisa\")\n",
    "print(hotel1.staff)"
   ]
  },
  {
   "cell_type": "markdown",
   "metadata": {},
   "source": [
    "We can now fill out this Hotel class to contain a number of different methods and variables. We've also added another special method called `__str__`, this returns a string that is printed to describe that instance."
   ]
  },
  {
   "cell_type": "code",
   "execution_count": null,
   "metadata": {},
   "outputs": [],
   "source": [
    "print(hotel1)"
   ]
  },
  {
   "cell_type": "code",
   "execution_count": null,
   "metadata": {},
   "outputs": [],
   "source": [
    "class Hotel:\n",
    "    def __init__(self, name, tot_rooms, aval_rooms):\n",
    "        self.title = name\n",
    "        self.num_rooms = tot_rooms\n",
    "        self.available_rooms = aval_rooms\n",
    "        self.staff = []\n",
    "    \n",
    "    def __str__(self):\n",
    "        return \"%s: %s rooms (%s available)\" % (self.title, self.num_rooms, self.available_rooms)\n",
    "    \n",
    "    def book_room(self):\n",
    "        if self.has_availability():\n",
    "            self.available_rooms -= 1\n",
    "        else:\n",
    "            return \"Cannot book room, %s is fully-booked!\" % self.title\n",
    "    \n",
    "    def has_availability(self):\n",
    "        if self.available_rooms > 0:\n",
    "            return True\n",
    "        else:\n",
    "            return False\n",
    "    \n",
    "    def rooms_booked(self):\n",
    "        return self.num_rooms - self.available_rooms"
   ]
  },
  {
   "cell_type": "code",
   "execution_count": null,
   "metadata": {},
   "outputs": [],
   "source": [
    "myhotel = Hotel(\"Ritz\", 30, 2)\n",
    "print(myhotel)\n",
    "\n",
    "print(\"Booked rooms:\", myhotel.rooms_booked())\n",
    "myhotel.book_room()\n",
    "myhotel.book_room()\n",
    "print(\"Booked rooms:\", myhotel.rooms_booked())\n",
    "myhotel.book_room()"
   ]
  },
  {
   "cell_type": "markdown",
   "metadata": {},
   "source": [
    "## Exercise\n",
    "\n",
    "Now it's your turn! Create a new class that describes a car. Add variables that describe the model, age, and mileage. Add a method to increase the mileage. Add another method that prints a message saying a service is required when the mileage reaches a certain point. "
   ]
  },
  {
   "cell_type": "code",
   "execution_count": null,
   "metadata": {},
   "outputs": [],
   "source": [
    "class Car:\n",
    "    service_at = 10000 # need to report a service whenever we drive 10000 miles\n",
    "    \n",
    "    def __init__(self, model, age, mileage):\n",
    "        self.model = model\n",
    "        self.age = age\n",
    "        self.mileage = mileage\n",
    "        self.since_last_service = 0\n",
    "        \n",
    "    def __str__(self):\n",
    "        return \"%s (%s) has %s miles on the clock (last serviced at %s)\" % (self.model, \n",
    "                                                                      self.age, \n",
    "                                                                      self.mileage, \n",
    "                                                                      self.since_last_service)\n",
    "    \n",
    "    def needs_service(self):\n",
    "        if self.since_last_service >= self.service_at:\n",
    "            return True\n",
    "        else:\n",
    "            return False\n",
    "    \n",
    "    def up_mileage(self, increase=1):\n",
    "        self.mileage += increase\n",
    "        self.since_last_service += increase\n",
    "        if self.needs_service():\n",
    "            self.since_last_service = 0\n",
    "            print(\"Car needs servicing!\")\n",
    "        "
   ]
  },
  {
   "cell_type": "code",
   "execution_count": null,
   "metadata": {},
   "outputs": [],
   "source": [
    "fiesta = Car(\"Fiesta\", 2011, 18000)\n",
    "fiesta.up_mileage(500)\n",
    "print(fiesta.mileage)\n",
    "\n",
    "fiesta.up_mileage(2000)\n",
    "fiesta.up_mileage(5000)\n",
    "print(fiesta)\n",
    "\n",
    "fiesta.up_mileage(3000)"
   ]
  },
  {
   "cell_type": "markdown",
   "metadata": {},
   "source": [
    "### Advanced Exercise\n",
    "Try creating a subclass that inherits from your previous class. For example a Truck class that uses all the same methods as a car, but also contains information on cargo. To inherit from a different class use this syntax:\n",
    "\n",
    "    class Truck(Car):\n",
    "\n",
    "To pass new information in that's specific to a Truck, you'll need an `__init__` method. Instances of this new class should still be able to use Car methods."
   ]
  },
  {
   "cell_type": "code",
   "execution_count": null,
   "metadata": {},
   "outputs": [],
   "source": [
    "class Truck(Car):\n",
    "    \n",
    "    def __init__(self, model, age, mileage):\n",
    "        self.model = model\n",
    "        self.age = age\n",
    "        self.mileage = mileage\n",
    "        self.since_last_service = 0\n",
    "        self.cargo = {}\n",
    "    \n",
    "    def add_cargo(self, cargo, volume):\n",
    "        if cargo in self.cargo:\n",
    "            self.cargo[cargo] += volume\n",
    "        else:\n",
    "            self.cargo[cargo] = volume"
   ]
  },
  {
   "cell_type": "code",
   "execution_count": null,
   "metadata": {},
   "outputs": [],
   "source": [
    "lorry = Truck(\"Ford\", 2015, 15000)\n",
    "lorry.up_mileage(200) # have inherited methods from Car class\n",
    "print(lorry)\n",
    "\n",
    "lorry.add_cargo(\"bricks\", 500) # But also have access to Truck only methods\n",
    "lorry.add_cargo(\"wood\", 10)\n",
    "lorry.add_cargo(\"bricks\", 200)\n",
    "lorry.cargo"
   ]
  }
 ],
 "metadata": {
  "kernelspec": {
   "display_name": "Python 3",
   "language": "python",
   "name": "python3"
  },
  "language_info": {
   "codemirror_mode": {
    "name": "ipython",
    "version": 3
   },
   "file_extension": ".py",
   "mimetype": "text/x-python",
   "name": "python",
   "nbconvert_exporter": "python",
   "pygments_lexer": "ipython3",
   "version": "3.6.4"
  }
 },
 "nbformat": 4,
 "nbformat_minor": 2
}
