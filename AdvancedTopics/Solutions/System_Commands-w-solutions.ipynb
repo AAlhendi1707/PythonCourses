{
 "cells": [
  {
   "cell_type": "markdown",
   "metadata": {},
   "source": [
    "<img style=\"float: right;\" src=\"http://www2.le.ac.uk/liscb1.jpg\">\n",
    "# System Commands"
   ]
  },
  {
   "cell_type": "markdown",
   "metadata": {},
   "source": [
    "Sometimes you need python to run an external program(s) within your script. You may be reading in data, reformating it and then wanting to pass it into another bit of software before reading the results back into python for analysis.\n",
    "\n",
    "We've already seen how to parse files in notebook 2 (`../2-analysing-data.ipynb`), so in this notebook we'll look specifically at how to run external programs/system commands. The key library for doing this is `subprocess`."
   ]
  },
  {
   "cell_type": "code",
   "execution_count": 1,
   "metadata": {},
   "outputs": [],
   "source": [
    "import subprocess"
   ]
  },
  {
   "cell_type": "markdown",
   "metadata": {},
   "source": [
    "## Call\n",
    "There are a number of different functions within the subprocess library. The first one we'll look at is called `call`, this simply runs the given command in the shell."
   ]
  },
  {
   "cell_type": "code",
   "execution_count": 2,
   "metadata": {},
   "outputs": [
    {
     "data": {
      "text/plain": [
       "0"
      ]
     },
     "execution_count": 2,
     "metadata": {},
     "output_type": "execute_result"
    }
   ],
   "source": [
    "subprocess.call('df -h', shell=True)"
   ]
  },
  {
   "cell_type": "markdown",
   "metadata": {},
   "source": [
    "The only output that is returned from running the command is `0`, an exit code that means this system process ran without errors (any value other than zero means there was an error). However, if you look at the terminal running jupyter you should see the output from the `df -h` command. It ran successfully but the `call` function does not return the command output to python.\n",
    "\n",
    "There are actually two ways to input a shell command using subprocess, the first where we enter the whole command within a string and set `shell=True` is shown above. The other way is to pass a list of strings, each containing one part of the command. In this case, we leave `shell` set to the default of False. \n",
    "\n",
    "*Note that setting shell to True is considered a security hazard if combined with untrusted input.*"
   ]
  },
  {
   "cell_type": "code",
   "execution_count": 3,
   "metadata": {},
   "outputs": [
    {
     "data": {
      "text/plain": [
       "0"
      ]
     },
     "execution_count": 3,
     "metadata": {},
     "output_type": "execute_result"
    }
   ],
   "source": [
    "subprocess.call(['df', '-h'])"
   ]
  },
  {
   "cell_type": "markdown",
   "metadata": {},
   "source": [
    "The `call` function will wait until the commmand has completed before returning."
   ]
  },
  {
   "cell_type": "code",
   "execution_count": 4,
   "metadata": {},
   "outputs": [
    {
     "name": "stdout",
     "output_type": "stream",
     "text": [
      "Complete\n"
     ]
    }
   ],
   "source": [
    "sleeptime = 4\n",
    "subprocess.call(['sleep', str(sleeptime)])  # sleeptime is converted to a string\n",
    "print(\"Complete\")"
   ]
  },
  {
   "cell_type": "markdown",
   "metadata": {},
   "source": [
    "Therefore the `call` function is useful if you need to run a simple command who's output does not need to be analysed. For example, running a program to index a file - the index is neccessary for the following steps but you don't need to read it in, it just needs to exist."
   ]
  },
  {
   "cell_type": "markdown",
   "metadata": {},
   "source": [
    "## Check_output\n",
    "Another function in the subprocess library is `check_output`, this runs in much the same way as `call` but instead of returning an error code, it returns the command output. "
   ]
  },
  {
   "cell_type": "code",
   "execution_count": 5,
   "metadata": {},
   "outputs": [
    {
     "data": {
      "text/plain": [
       "b'total 391\\n-rw-r--r-- 1 trf5 it_staff 13645 Jul 17 13:43 Bioinformatics.ipynb\\n-rw-r--r-- 1 trf5 it_staff  8149 Jul 31 09:08 Comprehensions.ipynb\\n-rw-r--r-- 1 trf5 it_staff 11258 Jul 17 13:35 Minimization.ipynb\\n-rw-r--r-- 1 trf5 it_staff  9666 Jul 17 11:08 Objects.ipynb\\n-rw-r--r-- 1 trf5 it_staff  9263 Jul 31 13:06 Parallel_Processes.ipynb\\ndrwxr-xr-x 3 trf5 it_staff  4096 Jul 31 09:08 Solutions\\n-rw-r--r-- 1 trf5 it_staff 12258 Jul 31 15:38 System_Commands.ipynb\\n'"
      ]
     },
     "execution_count": 5,
     "metadata": {},
     "output_type": "execute_result"
    }
   ],
   "source": [
    "subprocess.check_output(['ls', '-l'])"
   ]
  },
  {
   "cell_type": "markdown",
   "metadata": {},
   "source": [
    "Note that what has been returned is a bytes object, as shown by the `b` at the start. To covert this object into a string, we need to run the `.decode()` method."
   ]
  },
  {
   "cell_type": "code",
   "execution_count": 6,
   "metadata": {
    "scrolled": true
   },
   "outputs": [
    {
     "name": "stdout",
     "output_type": "stream",
     "text": [
      "total 391\n",
      "-rw-r--r-- 1 trf5 it_staff 13645 Jul 17 13:43 Bioinformatics.ipynb\n",
      "-rw-r--r-- 1 trf5 it_staff  8149 Jul 31 09:08 Comprehensions.ipynb\n",
      "-rw-r--r-- 1 trf5 it_staff 11258 Jul 17 13:35 Minimization.ipynb\n",
      "-rw-r--r-- 1 trf5 it_staff  9666 Jul 17 11:08 Objects.ipynb\n",
      "-rw-r--r-- 1 trf5 it_staff  9263 Jul 31 13:06 Parallel_Processes.ipynb\n",
      "drwxr-xr-x 3 trf5 it_staff  4096 Jul 31 09:08 Solutions\n",
      "-rw-r--r-- 1 trf5 it_staff 12258 Jul 31 15:38 System_Commands.ipynb\n",
      "\n"
     ]
    }
   ],
   "source": [
    "contents = subprocess.check_output(['ls', '-l'])\n",
    "print(contents.decode())"
   ]
  },
  {
   "cell_type": "markdown",
   "metadata": {},
   "source": [
    "As before `check_output` will wait until the command has finished before returning any results."
   ]
  },
  {
   "cell_type": "code",
   "execution_count": 7,
   "metadata": {},
   "outputs": [
    {
     "data": {
      "text/plain": [
       "b'Bioinformatics.ipynb\\nComprehensions.ipynb\\nMinimization.ipynb\\nObjects.ipynb\\nParallel_Processes.ipynb\\nSolutions\\nSystem_Commands.ipynb\\n'"
      ]
     },
     "execution_count": 7,
     "metadata": {},
     "output_type": "execute_result"
    }
   ],
   "source": [
    "res = subprocess.check_output('sleep 5; ls', shell=True)\n",
    "res"
   ]
  },
  {
   "cell_type": "markdown",
   "metadata": {},
   "source": [
    "## Popen\n",
    "\n",
    "Both `call` and `check_output` are limited versions of `Popen`, thus `Popen` has a full range of running options and can give you a lot more control over inputs and outputs. \n",
    "\n",
    "This first thing we'll look at is how to read the command outputs."
   ]
  },
  {
   "cell_type": "code",
   "execution_count": 8,
   "metadata": {},
   "outputs": [
    {
     "data": {
      "text/plain": [
       "(b'hello world\\n', None)"
      ]
     },
     "execution_count": 8,
     "metadata": {},
     "output_type": "execute_result"
    }
   ],
   "source": [
    "p = subprocess.Popen(['echo', 'hello world'], stdout=subprocess.PIPE)\n",
    "p.communicate()"
   ]
  },
  {
   "cell_type": "markdown",
   "metadata": {},
   "source": [
    "What we've done above is to pass the `subprocess.PIPE` class to the stdout (standard output) argument. Therefore, the stdout from the shell command will be *piped* into the python object `p`. To retrieve this value, we're using the `.communicate()` method. Note that this returns a tuple of the stdout and stderr."
   ]
  },
  {
   "cell_type": "code",
   "execution_count": 9,
   "metadata": {
    "scrolled": true
   },
   "outputs": [
    {
     "name": "stdout",
     "output_type": "stream",
     "text": [
      "Output: b'Bioinformatics.ipynb\\nComprehensions.ipynb\\nMinimization.ipynb\\nObjects.ipynb\\nParallel_Processes.ipynb\\nSolutions\\nSystem_Commands.ipynb\\n'\n",
      "Error: b''\n"
     ]
    }
   ],
   "source": [
    "p = subprocess.Popen(['ls'], stdout=subprocess.PIPE, stderr=subprocess.PIPE)\n",
    "out, err = p.communicate()\n",
    "print(\"Output: %s\" % out)\n",
    "print(\"Error: %s\" % err)"
   ]
  },
  {
   "cell_type": "markdown",
   "metadata": {},
   "source": [
    "We can also use `.communicate()` to pass in an input value as stdin - this also has to be a byte object."
   ]
  },
  {
   "cell_type": "code",
   "execution_count": 10,
   "metadata": {},
   "outputs": [
    {
     "data": {
      "text/plain": [
       "(b'Hello!', None)"
      ]
     },
     "execution_count": 10,
     "metadata": {},
     "output_type": "execute_result"
    }
   ],
   "source": [
    "p = subprocess.Popen(['cat'], stdin=subprocess.PIPE, stdout=subprocess.PIPE)\n",
    "p.communicate(input=b'Hello!')"
   ]
  },
  {
   "cell_type": "markdown",
   "metadata": {},
   "source": [
    "Note that the command is only run once you call the `.communicate()` method. "
   ]
  },
  {
   "cell_type": "code",
   "execution_count": 11,
   "metadata": {},
   "outputs": [
    {
     "name": "stdout",
     "output_type": "stream",
     "text": [
      "I've created the class object\n",
      "Now I've run the command\n"
     ]
    }
   ],
   "source": [
    "p = subprocess.Popen(['sleep','5'], stdout=subprocess.PIPE)\n",
    "print(\"I've created the class object\")\n",
    "p.communicate()\n",
    "print(\"Now I've run the command\")"
   ]
  },
  {
   "cell_type": "markdown",
   "metadata": {},
   "source": [
    "Finally, we can use these pipes to move data from one system command to another, creating a python pipeline of external programs."
   ]
  },
  {
   "cell_type": "code",
   "execution_count": 12,
   "metadata": {},
   "outputs": [
    {
     "data": {
      "text/plain": [
       "(b'Hello There\\n', None)"
      ]
     },
     "execution_count": 12,
     "metadata": {},
     "output_type": "execute_result"
    }
   ],
   "source": [
    "p1 = subprocess.Popen(['echo', 'Hello World'], stdout=subprocess.PIPE)\n",
    "echoout, echoerr = p1.communicate()\n",
    "\n",
    "p2 = subprocess.Popen(['sed','s/World/There/'], stdin=subprocess.PIPE, stdout=subprocess.PIPE)\n",
    "\n",
    "p2.communicate(input=echoout)"
   ]
  },
  {
   "cell_type": "markdown",
   "metadata": {},
   "source": [
    "### Exercise\n",
    "\n",
    "Use subprocess to pipe the output from `ls` to `grep`, searching for the file names that contain an underscore. \n",
    "\n",
    "**BONUS**\n",
    "\n",
    "Add a third `Popen` class to pipe these results to `sed` and substitude the '.ipynb' extension for '.txt'.\n",
    "\n",
    "**BONUS**\n",
    "\n",
    "Add error catching after each process by checking what the exit code (return code) is. Only continue if it returns 0."
   ]
  },
  {
   "cell_type": "code",
   "execution_count": 13,
   "metadata": {},
   "outputs": [
    {
     "name": "stdout",
     "output_type": "stream",
     "text": [
      "Parallel_Processes.txt\n",
      "System_Commands.txt\n",
      "\n"
     ]
    }
   ],
   "source": [
    "p1 = subprocess.Popen(['ls'], stdout=subprocess.PIPE)\n",
    "lsout, lserr = p1.communicate()\n",
    "\n",
    "if p1.returncode:\n",
    "    raise Exception(\"ls failed!\")\n",
    "\n",
    "p2 = subprocess.Popen(['grep', '_'], stdin=subprocess.PIPE, stdout=subprocess.PIPE)\n",
    "grepout, greperr = p2.communicate(input=lsout)\n",
    "\n",
    "if p2.returncode:\n",
    "    raise Exception(\"grep failed!\")\n",
    "\n",
    "p3 = subprocess.Popen(['sed', 's/.ipynb/.txt/'], stdin=subprocess.PIPE, stdout=subprocess.PIPE)\n",
    "sedout, sederr = p3.communicate(input=grepout)\n",
    "\n",
    "if p3.returncode:\n",
    "    raise Exception(\"sed failed!\")\n",
    "\n",
    "print(sedout.decode())"
   ]
  }
 ],
 "metadata": {
  "kernelspec": {
   "display_name": "Python 3",
   "language": "python",
   "name": "python3"
  },
  "language_info": {
   "codemirror_mode": {
    "name": "ipython",
    "version": 3
   },
   "file_extension": ".py",
   "mimetype": "text/x-python",
   "name": "python",
   "nbconvert_exporter": "python",
   "pygments_lexer": "ipython3",
   "version": "3.6.4"
  }
 },
 "nbformat": 4,
 "nbformat_minor": 2
}
