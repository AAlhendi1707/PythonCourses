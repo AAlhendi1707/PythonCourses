{
 "cells": [
  {
   "cell_type": "markdown",
   "metadata": {},
   "source": [
    "<img style=\"float: right;\" src=\"http://www2.le.ac.uk/liscb1.jpg\">\n",
    "Scipy is the first place to look for general-purpose scientific functionality.  The Scipy library is enormous and varied, so covering all the features is a course unto itself.  Having said that, one of the most commonly used features in scipy is it's fitting routines, one if which is demonstrated below."
   ]
  },
  {
   "cell_type": "markdown",
   "metadata": {},
   "source": [
    "## Curve fitting and optimization  \n",
    "\n",
    "Scipy comes with a number of fitting routines.  One that can be extremely useful is `curve_fit`, which fits a function to a given set of data using a least-squares minimization.  Here, we'll fit some (made up) data to the Michaelis-Menten equation:  \n",
    "\n",
    "$$V = \\frac{V_{max}[S]}{K_m+[S]}$$  \n",
    "\n",
    "First, we define the Michaelis-Menton equation:"
   ]
  },
  {
   "cell_type": "code",
   "execution_count": null,
   "metadata": {
    "collapsed": false
   },
   "outputs": [],
   "source": [
    "def michaelis_menton(s, km, vmax):\n",
    "    return (vmax*s) / (km + s)"
   ]
  },
  {
   "cell_type": "markdown",
   "metadata": {},
   "source": [
    "Now we pick some substrate concentrations we (would) do our measurements at:"
   ]
  },
  {
   "cell_type": "code",
   "execution_count": null,
   "metadata": {
    "collapsed": true
   },
   "outputs": [],
   "source": [
    "import numpy as np"
   ]
  },
  {
   "cell_type": "code",
   "execution_count": null,
   "metadata": {
    "collapsed": false
   },
   "outputs": [],
   "source": [
    "substrate_concentrations = np.array([0.01, 0.1, 0.2, 0.5, 0.8, 1.5, 3])"
   ]
  },
  {
   "cell_type": "markdown",
   "metadata": {},
   "source": [
    "For convenience when plotting, we'll create a numpy array of 1000 values between 0 and 3 for our x-axis:"
   ]
  },
  {
   "cell_type": "code",
   "execution_count": null,
   "metadata": {
    "collapsed": true
   },
   "outputs": [],
   "source": [
    "substrate_concentration_range = np.linspace(0, 3, 1000)"
   ]
  },
  {
   "cell_type": "markdown",
   "metadata": {},
   "source": [
    "Ok, lets make sure this looks right:"
   ]
  },
  {
   "cell_type": "code",
   "execution_count": null,
   "metadata": {
    "collapsed": true
   },
   "outputs": [],
   "source": [
    "import matplotlib.pyplot as plt\n",
    "%matplotlib inline"
   ]
  },
  {
   "cell_type": "code",
   "execution_count": null,
   "metadata": {
    "collapsed": false
   },
   "outputs": [],
   "source": [
    "km = 0.1\n",
    "vmax = 0.5\n",
    "\n",
    "initial_velocities = michaelis_menton(s=substrate_concentrations, km=km, vmax=vmax)\n",
    "mm_curve = michaelis_menton(substrate_concentration_range, km, vmax)\n",
    "\n",
    "\n",
    "# Plot all the things!\n",
    "plt.scatter(substrate_concentrations, initial_velocities)\n",
    "plt.plot(substrate_concentration_range, mm_curve)\n",
    "\n",
    "plt.ylabel('Velocity')\n",
    "plt.xlabel('initial [S]')\n",
    "\n",
    "# In M-M kinetics, the Km is the substrate concentration where you've reached half-max rate\n",
    "plt.vlines(km, ymin=0, ymax=vmax/2, linestyle='dashed')\n",
    "plt.hlines(vmax/2, xmin=0, xmax=km, linestyle='dashed')\n",
    "\n",
    "plt.xlim(xmin=0, xmax=3)\n",
    "plt.ylim(ymin=0, ymax=0.6)"
   ]
  },
  {
   "cell_type": "markdown",
   "metadata": {},
   "source": [
    "Ok, so lets now simulate some noisy data (with Normally distributed noise):"
   ]
  },
  {
   "cell_type": "code",
   "execution_count": null,
   "metadata": {
    "collapsed": false
   },
   "outputs": [],
   "source": [
    "number_of_concentrations = len(substrate_concentrations)\n",
    "ten_percent_noise = (np.random.normal(scale=0.1, size=number_of_concentrations)) + 1\n",
    "\n",
    "simulated_data = michaelis_menton(substrate_concentrations, km, vmax,) * ten_percent_noise"
   ]
  },
  {
   "cell_type": "markdown",
   "metadata": {},
   "source": [
    "ok, so how does our simulation look?"
   ]
  },
  {
   "cell_type": "code",
   "execution_count": null,
   "metadata": {
    "collapsed": false
   },
   "outputs": [],
   "source": [
    "plt.plot(substrate_concentration_range, mm_curve, label='ground truth')\n",
    "plt.scatter(substrate_concentrations, simulated_data, label='simulated data', color='green')\n",
    "plt.legend()"
   ]
  },
  {
   "cell_type": "markdown",
   "metadata": {},
   "source": [
    "Now we can try to fit our original equation.  In order to do this, we need to provide a guess for the parameters that the algorithm can start from.  For something as simple as the M-M equation, even quite bad guesses will do."
   ]
  },
  {
   "cell_type": "code",
   "execution_count": null,
   "metadata": {
    "collapsed": true
   },
   "outputs": [],
   "source": [
    "initial_guess = (100, simulated_data[-1])  # Km and Vmax.  Note the Km is a truly horrible guess, given our data"
   ]
  },
  {
   "cell_type": "markdown",
   "metadata": {},
   "source": [
    "In addition, we can provide the algorithm with bounds - regions of allowed values for the parameters.  In this case, it's not necissary, but it's always good to have a sanity check (in this case, both parameters must be positive.)"
   ]
  },
  {
   "cell_type": "code",
   "execution_count": null,
   "metadata": {
    "collapsed": true
   },
   "outputs": [],
   "source": [
    "lower_bounds = (0, 0)  # Km, Vmax\n",
    "upper_bounds = (np.inf, np.inf)  # Km, Vmax"
   ]
  },
  {
   "cell_type": "code",
   "execution_count": null,
   "metadata": {
    "collapsed": false
   },
   "outputs": [],
   "source": [
    "from scipy.optimize import curve_fit\n",
    "\n",
    "initial_guess = (100, simulated_data[-1])  # Km and Vmax.  Note the Km is a terrible guess, given our data\n",
    "\n",
    "fitted, covariance = curve_fit(f=michaelis_menton,\n",
    "                               xdata=substrate_concentrations,\n",
    "                               ydata=simulated_data,\n",
    "                               p0=initial_guess,\n",
    "                               bounds=(lower_bounds, upper_bounds)\n",
    "                              )\n",
    "print('Km:', fitted[0])\n",
    "print('Vmax:',fitted[1])"
   ]
  },
  {
   "cell_type": "markdown",
   "metadata": {},
   "source": [
    "Remember, always look at your data as much as possible!"
   ]
  },
  {
   "cell_type": "code",
   "execution_count": null,
   "metadata": {
    "collapsed": false
   },
   "outputs": [],
   "source": [
    "calculated_curve = michaelis_menton(substrate_concentration_range, fitted[0], fitted[1])\n",
    "\n",
    "plt.plot(substrate_concentration_range, mm_curve, label='ground truth')\n",
    "plt.scatter(substrate_concentrations, simulated_data, label='simulated data', color='green')\n",
    "plt.plot(substrate_concentration_range, calculated_curve, label='fitted')\n",
    "\n",
    "plt.legend()"
   ]
  },
  {
   "cell_type": "markdown",
   "metadata": {},
   "source": [
    "### Exercise 1:  Compute the error\n",
    "Compute the error of the fit.  \n",
    "*Hint: Read the docstring of curve_fit using `.?`, and look at what the function returns*\n",
    "\n",
    "__Bonus:__\n",
    "Remake the plot, but shade the error bounds.  \n",
    "1. The maximum positive error is when you subtract the standard deviation from the Km and add it to the Vmax\n",
    "2. Calculate the curve for the maximum and minimum errors as we did above\n",
    "3. Ask google how to fill between curves in matplotlib\n",
    "4. Try setting `alpha=0.2` in the plotting function."
   ]
  },
  {
   "cell_type": "code",
   "execution_count": null,
   "metadata": {
    "collapsed": false
   },
   "outputs": [],
   "source": []
  },
  {
   "cell_type": "code",
   "execution_count": null,
   "metadata": {
    "collapsed": false
   },
   "outputs": [],
   "source": []
  },
  {
   "cell_type": "code",
   "execution_count": null,
   "metadata": {
    "collapsed": true
   },
   "outputs": [],
   "source": []
  }
 ],
 "metadata": {
  "anaconda-cloud": {},
  "kernelspec": {
   "display_name": "Python [default]",
   "language": "python",
   "name": "python3"
  },
  "language_info": {
   "codemirror_mode": {
    "name": "ipython",
    "version": 3
   },
   "file_extension": ".py",
   "mimetype": "text/x-python",
   "name": "python",
   "nbconvert_exporter": "python",
   "pygments_lexer": "ipython3",
   "version": "3.5.2"
  }
 },
 "nbformat": 4,
 "nbformat_minor": 1
}
