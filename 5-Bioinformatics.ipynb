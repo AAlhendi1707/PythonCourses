{
 "cells": [
  {
   "cell_type": "markdown",
   "metadata": {},
   "source": [
    "<img style=\"float: right;\" src=\"http://www2.le.ac.uk/liscb1.jpg\">\n",
    "# Bioinformatics in Python"
   ]
  },
  {
   "cell_type": "markdown",
   "metadata": {},
   "source": [
    "Written by Teri Forey"
   ]
  },
  {
   "cell_type": "markdown",
   "metadata": {},
   "source": [
    "As well as python libraries that work with numerical data, people have also built libraries that work on biological data. Specifically DNA/protein sequences and SAM/BAM alignment files. These libraries are [Biopython](http://biopython.org/) and [pysam](http://pysam.readthedocs.io/en/latest/index.html) respectively."
   ]
  },
  {
   "cell_type": "markdown",
   "metadata": {},
   "source": [
    "## 1. Biopython\n",
    "\n",
    "Biopython is the main python library that parses and reads sequence files. There are two main objects the `Seq` object that contains the DNA/RNA/protein sequence itself and the `SeqRecord` object that contains additional information such as an ID. We'll first look at creating a `Seq` object. "
   ]
  },
  {
   "cell_type": "markdown",
   "metadata": {},
   "source": [
    "### 1.1 Seq\n",
    "We'll first import the Seq class that's contained within Bio.Seq"
   ]
  },
  {
   "cell_type": "code",
   "execution_count": 1,
   "metadata": {},
   "outputs": [],
   "source": [
    "from Bio.Seq import Seq"
   ]
  },
  {
   "cell_type": "markdown",
   "metadata": {},
   "source": [
    "We can create a Seq object simply by typing in the sequence as a string."
   ]
  },
  {
   "cell_type": "code",
   "execution_count": 2,
   "metadata": {},
   "outputs": [
    {
     "data": {
      "text/plain": [
       "Seq('ATGGCATCGATTCGATGCTAGGCTAGCTAG', Alphabet())"
      ]
     },
     "execution_count": 2,
     "metadata": {},
     "output_type": "execute_result"
    }
   ],
   "source": [
    "my_seq = Seq(\"ATGGCATCGATTCGATGCTAGGCTAGCTAG\")\n",
    "my_seq"
   ]
  },
  {
   "cell_type": "markdown",
   "metadata": {},
   "source": [
    "When this object is printed to screen, it contains the sequence but also an Alphabet. At the moment this alphabet is just a default basic alphabet as Biopython doesn't know whether the sequence is DNA or protein. If you know this information when you create a Seq object, you should supply it."
   ]
  },
  {
   "cell_type": "code",
   "execution_count": 3,
   "metadata": {},
   "outputs": [
    {
     "data": {
      "text/plain": [
       "Seq('ATCGATGCAGGCTAG', DNAAlphabet())"
      ]
     },
     "execution_count": 3,
     "metadata": {},
     "output_type": "execute_result"
    }
   ],
   "source": [
    "from Bio.Alphabet import generic_dna, generic_protein\n",
    "\n",
    "my_dna = Seq(\"ATCGATGCAGGCTAG\", generic_dna)\n",
    "my_dna"
   ]
  },
  {
   "cell_type": "code",
   "execution_count": 4,
   "metadata": {},
   "outputs": [
    {
     "data": {
      "text/plain": [
       "Seq('ATCGATGCAGGCTAG', ProteinAlphabet())"
      ]
     },
     "execution_count": 4,
     "metadata": {},
     "output_type": "execute_result"
    }
   ],
   "source": [
    "my_protein = Seq('ATCGATGCAGGCTAG', generic_protein)\n",
    "my_protein"
   ]
  },
  {
   "cell_type": "markdown",
   "metadata": {},
   "source": [
    "If these alphabets are set, it means a lot of biologically sensible errors will be caught. For example, you wouldn't be able to combine a DNA and protein sequence."
   ]
  },
  {
   "cell_type": "code",
   "execution_count": 5,
   "metadata": {
    "scrolled": true
   },
   "outputs": [
    {
     "ename": "TypeError",
     "evalue": "Incompatible alphabets DNAAlphabet() and ProteinAlphabet()",
     "output_type": "error",
     "traceback": [
      "\u001b[0;31m---------------------------------------------------------------------------\u001b[0m",
      "\u001b[0;31mTypeError\u001b[0m                                 Traceback (most recent call last)",
      "\u001b[0;32m<ipython-input-5-4a4d72358ebe>\u001b[0m in \u001b[0;36m<module>\u001b[0;34m()\u001b[0m\n\u001b[0;32m----> 1\u001b[0;31m \u001b[0mmy_dna\u001b[0m \u001b[0;34m+\u001b[0m \u001b[0mmy_protein\u001b[0m\u001b[0;34m\u001b[0m\u001b[0m\n\u001b[0m",
      "\u001b[0;32m~/pythonintro/env/lib/python3.6/site-packages/Bio/Seq.py\u001b[0m in \u001b[0;36m__add__\u001b[0;34m(self, other)\u001b[0m\n\u001b[1;32m    301\u001b[0m                 raise TypeError(\n\u001b[1;32m    302\u001b[0m                     \"Incompatible alphabets {0!r} and {1!r}\".format(\n\u001b[0;32m--> 303\u001b[0;31m                         self.alphabet, other.alphabet))\n\u001b[0m\u001b[1;32m    304\u001b[0m             \u001b[0;31m# They should be the same sequence type (or one of them is generic)\u001b[0m\u001b[0;34m\u001b[0m\u001b[0;34m\u001b[0m\u001b[0m\n\u001b[1;32m    305\u001b[0m             \u001b[0ma\u001b[0m \u001b[0;34m=\u001b[0m \u001b[0mAlphabet\u001b[0m\u001b[0;34m.\u001b[0m\u001b[0m_consensus_alphabet\u001b[0m\u001b[0;34m(\u001b[0m\u001b[0;34m[\u001b[0m\u001b[0mself\u001b[0m\u001b[0;34m.\u001b[0m\u001b[0malphabet\u001b[0m\u001b[0;34m,\u001b[0m \u001b[0mother\u001b[0m\u001b[0;34m.\u001b[0m\u001b[0malphabet\u001b[0m\u001b[0;34m]\u001b[0m\u001b[0;34m)\u001b[0m\u001b[0;34m\u001b[0m\u001b[0m\n",
      "\u001b[0;31mTypeError\u001b[0m: Incompatible alphabets DNAAlphabet() and ProteinAlphabet()"
     ]
    }
   ],
   "source": [
    "my_dna + my_protein"
   ]
  },
  {
   "cell_type": "markdown",
   "metadata": {},
   "source": [
    "### 1.2 Seq Methods\n",
    "\n",
    "The Seq object contains some generic methods that are common to all strings, as well as methods that are unique to nucleotide sequences. A few examples of these are demonstrated below. "
   ]
  },
  {
   "cell_type": "code",
   "execution_count": 6,
   "metadata": {},
   "outputs": [
    {
     "data": {
      "text/plain": [
       "8"
      ]
     },
     "execution_count": 6,
     "metadata": {},
     "output_type": "execute_result"
    }
   ],
   "source": [
    "# Use the string method find() to locate the start of a particular sequence\n",
    "my_dna.find('AGG')"
   ]
  },
  {
   "cell_type": "code",
   "execution_count": 7,
   "metadata": {},
   "outputs": [
    {
     "data": {
      "text/plain": [
       "Seq('CTAGCCTGCATCGAT', DNAAlphabet())"
      ]
     },
     "execution_count": 7,
     "metadata": {},
     "output_type": "execute_result"
    }
   ],
   "source": [
    "# print the reverse complement sequence\n",
    "my_dna.reverse_complement()"
   ]
  },
  {
   "cell_type": "code",
   "execution_count": 8,
   "metadata": {},
   "outputs": [
    {
     "data": {
      "text/plain": [
       "Seq('IDAG*', HasStopCodon(ExtendedIUPACProtein(), '*'))"
      ]
     },
     "execution_count": 8,
     "metadata": {},
     "output_type": "execute_result"
    }
   ],
   "source": [
    "# Translate the sequence into protein. \n",
    "# Note this will only translate the forward strand and will assume the whole sequence is coding! \n",
    "my_dna.translate()"
   ]
  },
  {
   "cell_type": "code",
   "execution_count": 9,
   "metadata": {},
   "outputs": [
    {
     "ename": "ValueError",
     "evalue": "Proteins cannot be translated!",
     "output_type": "error",
     "traceback": [
      "\u001b[0;31m---------------------------------------------------------------------------\u001b[0m",
      "\u001b[0;31mValueError\u001b[0m                                Traceback (most recent call last)",
      "\u001b[0;32m<ipython-input-9-b3d7c39377a3>\u001b[0m in \u001b[0;36m<module>\u001b[0;34m()\u001b[0m\n\u001b[1;32m      1\u001b[0m \u001b[0;31m# Translate will not work on a protein sequence\u001b[0m\u001b[0;34m\u001b[0m\u001b[0;34m\u001b[0m\u001b[0m\n\u001b[0;32m----> 2\u001b[0;31m \u001b[0mmy_protein\u001b[0m\u001b[0;34m.\u001b[0m\u001b[0mtranslate\u001b[0m\u001b[0;34m(\u001b[0m\u001b[0;34m)\u001b[0m\u001b[0;34m\u001b[0m\u001b[0m\n\u001b[0m",
      "\u001b[0;32m~/pythonintro/env/lib/python3.6/site-packages/Bio/Seq.py\u001b[0m in \u001b[0;36mtranslate\u001b[0;34m(self, table, stop_symbol, to_stop, cds, gap)\u001b[0m\n\u001b[1;32m   1062\u001b[0m         if isinstance(Alphabet._get_base_alphabet(self.alphabet),\n\u001b[1;32m   1063\u001b[0m                       Alphabet.ProteinAlphabet):\n\u001b[0;32m-> 1064\u001b[0;31m             \u001b[0;32mraise\u001b[0m \u001b[0mValueError\u001b[0m\u001b[0;34m(\u001b[0m\u001b[0;34m\"Proteins cannot be translated!\"\u001b[0m\u001b[0;34m)\u001b[0m\u001b[0;34m\u001b[0m\u001b[0m\n\u001b[0m\u001b[1;32m   1065\u001b[0m         \u001b[0;32mtry\u001b[0m\u001b[0;34m:\u001b[0m\u001b[0;34m\u001b[0m\u001b[0m\n\u001b[1;32m   1066\u001b[0m             \u001b[0mtable_id\u001b[0m \u001b[0;34m=\u001b[0m \u001b[0mint\u001b[0m\u001b[0;34m(\u001b[0m\u001b[0mtable\u001b[0m\u001b[0;34m)\u001b[0m\u001b[0;34m\u001b[0m\u001b[0m\n",
      "\u001b[0;31mValueError\u001b[0m: Proteins cannot be translated!"
     ]
    }
   ],
   "source": [
    "# Translate will not work on a protein sequence\n",
    "my_protein.translate()"
   ]
  },
  {
   "cell_type": "markdown",
   "metadata": {},
   "source": [
    "### 1.3 SeqRecord\n",
    "\n",
    "A SeqRecord object contains a Seq object, as well as additional information."
   ]
  },
  {
   "cell_type": "code",
   "execution_count": 10,
   "metadata": {},
   "outputs": [
    {
     "name": "stdout",
     "output_type": "stream",
     "text": [
      "ID: YP_025292.1\n",
      "Name: HokC\n",
      "Description: toxic membrane protein, small\n",
      "Number of features: 0\n",
      "Seq('MKQHKAMIVALIVICITAVVAALVTRKDLCEVHIRTGQTEVAVF', IUPACProtein())\n"
     ]
    }
   ],
   "source": [
    "from Bio.Seq import Seq\n",
    "from Bio.SeqRecord import SeqRecord\n",
    "from Bio.Alphabet import IUPAC\n",
    "\n",
    "record = SeqRecord(Seq(\"MKQHKAMIVALIVICITAVVAALVTRKDLCEVHIRTGQTEVAVF\",\n",
    "                       IUPAC.protein),\n",
    "                   id=\"YP_025292.1\", name=\"HokC\",\n",
    "                   description=\"toxic membrane protein, small\")\n",
    "print(record)"
   ]
  },
  {
   "cell_type": "markdown",
   "metadata": {},
   "source": [
    "As you can see, we've assigned the sequence, ID, name and description. Printing the record outputs this information in a human readable format.\n",
    "\n",
    "### 1.4 SeqIO\n",
    "\n",
    "It's unlikely you'll often create these SeqRecords by hand though, you'll most often be reading them in from a file. For that, you need to import the SeqIO function. There's an example GenBank file in `data/`, we'll import this and print a few pieces of information for each sequence in the file."
   ]
  },
  {
   "cell_type": "code",
   "execution_count": 11,
   "metadata": {},
   "outputs": [
    {
     "name": "stdout",
     "output_type": "stream",
     "text": [
      "ID: NM_001285987.1\tName: NM_001285987\tSequence Length: 2075\n"
     ]
    }
   ],
   "source": [
    "from Bio import SeqIO\n",
    "\n",
    "# We have to specify the filename and the format\n",
    "for record in SeqIO.parse(\"data/sequence.gb\", 'genbank'):\n",
    "    print(\"ID: %s\\tName: %s\\tSequence Length: %s\" % (record.id, record.name, len(record.seq)))"
   ]
  },
  {
   "cell_type": "markdown",
   "metadata": {},
   "source": [
    "There is only one sequence in this file, we can see all of the information by printing the whole record."
   ]
  },
  {
   "cell_type": "code",
   "execution_count": 12,
   "metadata": {},
   "outputs": [
    {
     "name": "stdout",
     "output_type": "stream",
     "text": [
      "ID: NM_001285987.1\n",
      "Name: NM_001285987\n",
      "Description: Homo sapiens POU class 5 homeobox 1 (POU5F1), transcript variant 5, mRNA\n",
      "Number of features: 17\n",
      "/molecule_type=mRNA\n",
      "/topology=linear\n",
      "/data_file_division=PRI\n",
      "/date=29-MAR-2018\n",
      "/accessions=['NM_001285987']\n",
      "/sequence_version=1\n",
      "/keywords=['RefSeq']\n",
      "/source=Homo sapiens (human)\n",
      "/organism=Homo sapiens\n",
      "/taxonomy=['Eukaryota', 'Metazoa', 'Chordata', 'Craniata', 'Vertebrata', 'Euteleostomi', 'Mammalia', 'Eutheria', 'Euarchontoglires', 'Primates', 'Haplorrhini', 'Catarrhini', 'Hominidae', 'Homo']\n",
      "/references=[Reference(title='Overexpression of OCT4 induced by modulation of histone marks plays crucial role in breast cancer progression', ...), Reference(title='Correlation of Cancer Stem-Cell Markers OCT4, SOX2, and NANOG with Clinicopathological Features and Prognosis in Operative Patients with Rectal Cancer', ...), Reference(title='Concise review: isoforms of OCT4 contribute to the confusing diversity in stem cell biology', ...), Reference(title='Mapping of the minimal internal ribosome entry site element in the human embryonic stem cell gene OCT4B mRNA', ...), Reference(title='Alternative translation of OCT4 by an internal ribosome entry site and its novel function in stress response', ...), Reference(title='OCT4 spliced variants are differentially expressed in human pluripotent and nonpluripotent cells', ...), Reference(title='The human OCT-4 isoforms differ in their ability to confer self-renewal', ...), Reference(title='A human POU domain gene, mPOU, is expressed in developing brain and specific adult tissues', ...), Reference(title='Human Oct3 gene family: cDNA sequences, alternative splicing, gene organization, chromosomal location, and expression at low levels in adult tissues', ...), Reference(title='Octamer-dependent regulation of the kFGF gene in embryonal carcinoma and embryonic stem cells', ...)]\n",
      "/comment=REVIEWED REFSEQ: This record has been curated by NCBI staff. The\n",
      "reference sequence was derived from DQ486514.1, DQ486515.1,\n",
      "Z11899.1 and AI811039.1.\n",
      "Summary: This gene encodes a transcription factor containing a POU\n",
      "homeodomain that plays a key role in embryonic development and stem\n",
      "cell pluripotency. Aberrant expression of this gene in adult\n",
      "tissues is associated with tumorigenesis. This gene can participate\n",
      "in a translocation with the Ewing's sarcoma gene on chromosome 21,\n",
      "which also leads to tumor formation. Alternative splicing, as well\n",
      "as usage of alternative AUG and non-AUG translation initiation\n",
      "codons, results in multiple isoforms. One of the AUG start codons\n",
      "is polymorphic in human populations. Related pseudogenes have been\n",
      "identified on chromosomes 1, 3, 8, 10, and 12. [provided by RefSeq,\n",
      "Oct 2013].\n",
      "Transcript Variant: This variant (5, also known as OCT4B) differs\n",
      "in the 5' UTR, lacks a portion of the 5' coding region, and\n",
      "initiates translation at an alternate AUG start codon, compared to\n",
      "variant 1. The resulting isoform (3, also known as OCT4B-265) is\n",
      "shorter and has a distinct N-terminus, compared to isoform 1. This\n",
      "variant represents an allele of variant 2 that contains an AUG\n",
      "start codon that is polymorphic in human populations (see\n",
      "rs3130932). This variant may encode additional isoforms through the\n",
      "use of alternative downstream AUG and non-AUG start codons, as\n",
      "described in PMID:19489092.\n",
      "Publication Note:  This RefSeq record includes a subset of the\n",
      "publications that are available for this gene. Please see the Gene\n",
      "record to access additional publications.\n",
      "                               SAMEA1968189, SAMEA1968540\n",
      "                               [ECO:0000348]\n",
      "COMPLETENESS: complete on the 3' end.\n",
      "/structured_comment=OrderedDict([('Evidence-Data', OrderedDict([('Transcript exon combination', 'KY781166.1, KX151172.1 [ECO:0000332]'), ('RNAseq introns', 'single sample supports all introns')]))])\n",
      "Seq('GGAAAAAAGGAAAGTGCACTTGGAAGAGATCCAAGTGGGCAACTTGAAGAACAA...AAA', IUPACAmbiguousDNA())\n"
     ]
    }
   ],
   "source": [
    "print(record)"
   ]
  },
  {
   "cell_type": "markdown",
   "metadata": {},
   "source": [
    "There is a lot of information here! Different file formats contain different information, so what you see here won't match what you'll see from a FASTA format file for example. Almost all of the sequence file formats you'll come across working with biological sequences are supported by Biopython, have a look at their documentation for more information.\n",
    "\n",
    "Importantly when working with a SeqRecord object, you can access the underlying Seq object - and therefore all of the methods that come with it!"
   ]
  },
  {
   "cell_type": "code",
   "execution_count": 13,
   "metadata": {},
   "outputs": [
    {
     "data": {
      "text/plain": [
       "Seq('GGAAAAAAGGAAAGTGCACTTGGAAGAGATCCAAGTGGGCAACTTGAAGAACAA...AAA', IUPACAmbiguousDNA())"
      ]
     },
     "execution_count": 13,
     "metadata": {},
     "output_type": "execute_result"
    }
   ],
   "source": [
    "record.seq"
   ]
  },
  {
   "cell_type": "code",
   "execution_count": 14,
   "metadata": {},
   "outputs": [
    {
     "data": {
      "text/plain": [
       "Seq('TTTTTTTTTTTAAGTGTGTCTATCTACTGTGTCCCAGGCTTCTTTATTTAAGAA...TCC', IUPACAmbiguousDNA())"
      ]
     },
     "execution_count": 14,
     "metadata": {},
     "output_type": "execute_result"
    }
   ],
   "source": [
    "record.seq.reverse_complement()"
   ]
  },
  {
   "cell_type": "code",
   "execution_count": 15,
   "metadata": {},
   "outputs": [
    {
     "name": "stdout",
     "output_type": "stream",
     "text": [
      "GGAAAAAAGGAAAGTGCACTTGGAAGAGATCCAAGTGGGCAACTTGAAGAACAAGTGCCAAATAGCACTTCTGTCATGCTGGATGTCAGGGCTCTTTGTCCACTTTGTATAGCCGCTGGCTTATAGAAGGTGCTCGATAAATCTCTTGAATTTAAAAATCAATTAGGATGCCTCTATAGTGAAAAAGATACAGTAAAGATGAGGGATAATCAATTTAAAAAATGAGTAAGTACACACAAAGCACTTTATCCATTCTTATGACACCTGTTACTTTTTTGCTGTGTTTGTGTGTATGCATGCCATGTTATAGTTTGTGGGACCCTCAAAGCAAGCTGGGGAGAGTATATACTGAATTTAGCTTCTGAGACATGATGCTCTTCCTTTTTAATTAACCCAGAACTTAGCAGCTTATCTATTTCTCTAATCTCAAAACATCCTTAAACTGGGGGTGATACTTGAGTGAGAGAATTTTGCAGGTATTAAATGAACTATCTTCTTTTTTTTTTTTCTTTGAGACAGAGTCTTGCTCTGTCACCCAGGCTGGAGTGCAGTGGCGTGATCTCAGCTCACTGCAACCTCCGCCTCCCGGGTTCAAGTGATTCTCCTGCCTCAGCCTCCTGAGTAGCTGGGATTACAGGTGCGTGCCACCGTGCCCAGCTAATTTTTGTGTTTTTAGTAGAGACGGGGTTTCACCATGTTGGCCATGCTGGTCTTGAACTCCTGACCTCGTGATCTGCCCACCTCGGCCTCCCAAAGTGCTGGAATTATAGGCGTGAGCCACCGCGCCCAGCAAAGAACTTCTAACCTTCATAACCTGACAGGTGTTCTCGAGGCCAGGGTCTCTCTTTCTGTCCTTTCACGATGCTCTGCATCCCTTGGATGTGCCAGTTTCTGGGGGAAGAGTAGTCCTTTGTTACATGCATGAGTCAGTGAACAGGGAATGGGTGAATGACATTTGTGGGTAGGTTATTTCTAGAAGTTAGGTGGGCAGCTTGGAAGGCAGATGCACTTCTACAGACTATTCCTTGGGGCCACACGTAGGTTCTTGAATCCCGAATGGAAAGGGGAGATTGATAACTGGTGTGTTTATGTTCTTACAAGTCTTCTGCCTTTTAAAATCCAGTCCCAGGACATCAAAGCTCTGCAGAAAGAACTCGAGCAATTTGCCAAGCTCCTGAAGCAGAAGAGGATCACCCTGGGATATACACAGGCCGATGTGGGGCTCACCCTGGGGGTTCTATTTGGGAAGGTATTCAGCCAAACGACCATCTGCCGCTTTGAGGCTCTGCAGCTTAGCTTCAAGAACATGTGTAAGCTGCGGCCCTTGCTGCAGAAGTGGGTGGAGGAAGCTGACAACAATGAAAATCTTCAGGAGATATGCAAAGCAGAAACCCTCGTGCAGGCCCGAAAGAGAAAGCGAACCAGTATCGAGAACCGAGTGAGAGGCAACCTGGAGAATTTGTTCCTGCAGTGCCCGAAACCCACACTGCAGCAGATCAGCCACATCGCCCAGCAGCTTGGGCTCGAGAAGGATGTGGTCCGAGTGTGGTTCTGTAACCGGCGCCAGAAGGGCAAGCGATCAAGCAGCGACTATGCACAACGAGAGGATTTTGAGGCTGCTGGGTCTCCTTTCTCAGGGGGACCAGTGTCCTTTCCTCTGGCCCCAGGGCCCCATTTTGGTACCCCAGGCTATGGGAGCCCTCACTTCACTGCACTGTACTCCTCGGTCCCTTTCCCTGAGGGGGAAGCCTTTCCCCCTGTCTCCGTCACCACTCTGGGCTCTCCCATGCATTCAAACTGAGGTGCCTGCCCTTCTAGGAATGGGGGACAGGGGGAGGGGAGGAGCTAGGGAAAGAAAACCTGGAGTTTGTGCCAGGGTTTTTGGGATTAAGTTCTTCATTCACTAAGGAAGGAATTGGGAACACAAAGGGTGGGGGCAGGGGAGTTTGGGGCAACTGGTTGGAGGGAAGGTGAAGTTCAATGATGCTCTTGATTTTAATCCCACATCATGTATCACTTTTTTCTTAAATAAAGAAGCCTGGGACACAGTAGATAGACACACTTAAAAAAAAAAA\n"
     ]
    },
    {
     "data": {
      "text/plain": [
       "'GGAAAAAAGGAAAGTGCACTTGGAAGAGATCCAAGTGGGCAACTTGAAGAACAAGTGCCAAATAGCACTTCTGTCATGCTGGATGTCAGGGCTCTTTGTCCACTTTGTATAGCCGCTGGCTTATAGAAGGTGCTCGATAAATCTCTTGAATTTAAAAATCAATTAGGATGCCTCTATAGTGAAAAAGATACAGTAAAGATGAGGGATAATCAATTTAAAAAATGAGTAAGTACACACAAAGCACTTTATCCATTCTTATGACACCTGTTACTTTTTTGCTGTGTTTGTGTGTATGCATGCCATGTTATAGTTTGTGGGACCCTCAAAGCAAGCTGGGGAGAGTATATACTGAATTTAGCTTCTGAGACATGATGCTCTTCCTTTTTAATTAACCCAGAACTTAGCAGCTTATCTATTTCTCTAATCTCAAAACATCCTTAAACTGGGGGTGATACTTGAGTGAGAGAATTTTGCAGGTATTAAATGAACTATCTTCTTTTTTTTTTTTCTTTGAGACAGAGTCTTGCTCTGTCACCCAGGCTGGAGTGCAGTGGCGTGATCTCAGCTCACTGCAACCTCCGCCTCCCGGGTTCAAGTGATTCTCCTGCCTCAGCCTCCTGAGTAGCTGGGATTACAGGTGCGTGCCACCGTGCCCAGCTAATTTTTGTGTTTTTAGTAGAGACGGGGTTTCACCATGTTGGCCATGCTGGTCTTGAACTCCTGACCTCGTGATCTGCCCACCTCGGCCTCCCAAAGTGCTGGAATTATAGGCGTGAGCCACCGCGCCCAGCAAAGAACTTCTAACCTTCATAACCTGACAGGTGTTCTCGAGGCCAGGGTCTCTCTTTCTGTCCTTTCACGATGCTCTGCATCCCTTGGATGTGCCAGTTTCTGGGGGAAGAGTAGTCCTTTGTTACATGCATGAGTCAGTGAACAGGGAATGGGTGAATGACATTTGTGGGTAGGTTATTTCTAGAAGTTAGGTGGGCAGCTTGGAAGGCAGATGCACTTCTACAGACTATTCCTTGGGGCCACACGTAGGTTCTTGAATCCCGAATGGAAAGGGGAGATTGATAACTGGTGTGTTTATGTTCTTACAAGTCTTCTGCCTTTTAAAATCCAGTCCCAGGACATCAAAGCTCTGCAGAAAGAACTCGAGCAATTTGCCAAGCTCCTGAAGCAGAAGAGGATCACCCTGGGATATACACAGGCCGATGTGGGGCTCACCCTGGGGGTTCTATTTGGGAAGGTATTCAGCCAAACGACCATCTGCCGCTTTGAGGCTCTGCAGCTTAGCTTCAAGAACATGTGTAAGCTGCGGCCCTTGCTGCAGAAGTGGGTGGAGGAAGCTGACAACAATGAAAATCTTCAGGAGATATGCAAAGCAGAAACCCTCGTGCAGGCCCGAAAGAGAAAGCGAACCAGTATCGAGAACCGAGTGAGAGGCAACCTGGAGAATTTGTTCCTGCAGTGCCCGAAACCCACACTGCAGCAGATCAGCCACATCGCCCAGCAGCTTGGGCTCGAGAAGGATGTGGTCCGAGTGTGGTTCTGTAACCGGCGCCAGAAGGGCAAGCGATCAAGCAGCGACTATGCACAACGAGAGGATTTTGAGGCTGCTGGGTCTCCTTTCTCAGGGGGACCAGTGTCCTTTCCTCTGGCCCCAGGGCCCCATTTTGGTACCCCAGGCTATGGGAGCCCTCACTTCACTGCACTGTACTCCTCGGTCCCTTTCCCTGAGGGGGAAGCCTTTCCCCCTGTCTCCGTCACCACTCTGGGCTCTCCCATGCATTCAAACTGAGGTGCCTGCCCTTCTAGGAATGGGGGACAGGGGGAGGGGAGGAGCTAGGGAAAGAAAACCTGGAGTTTGTGCCAGGGTTTTTGGGATTAAGTTCTTCATTCACTAAGGAAGGAATTGGGAACACAAAGGGTGGGGGCAGGGGAGTTTGGGGCAACTGGTTGGAGGGAAGGTGAAGTTCAATGATGCTCTTGATTTTAATCCCACATCATGTATCACTTTTTTCTTAAATAAAGAAGCCTGGGACACAGTAGATAGACACACTTAAAAAAAAAAA'"
      ]
     },
     "execution_count": 15,
     "metadata": {},
     "output_type": "execute_result"
    }
   ],
   "source": [
    "# Note that to print the whole sequence you need to use print() or convert it to a string\n",
    "print(record.seq)\n",
    "str(record.seq)"
   ]
  },
  {
   "cell_type": "markdown",
   "metadata": {},
   "source": [
    "There are lots of methods and attributes associated with a SeqRecord object, you can use the python function dir() to list them as strings. Those that start with and underscore ('_') are internal methods and shouldn't be used."
   ]
  },
  {
   "cell_type": "code",
   "execution_count": 16,
   "metadata": {},
   "outputs": [
    {
     "data": {
      "text/plain": [
       "['__add__',\n",
       " '__bool__',\n",
       " '__class__',\n",
       " '__contains__',\n",
       " '__delattr__',\n",
       " '__dict__',\n",
       " '__dir__',\n",
       " '__doc__',\n",
       " '__eq__',\n",
       " '__format__',\n",
       " '__ge__',\n",
       " '__getattribute__',\n",
       " '__getitem__',\n",
       " '__gt__',\n",
       " '__hash__',\n",
       " '__init__',\n",
       " '__init_subclass__',\n",
       " '__iter__',\n",
       " '__le__',\n",
       " '__le___',\n",
       " '__len__',\n",
       " '__lt__',\n",
       " '__module__',\n",
       " '__ne__',\n",
       " '__new__',\n",
       " '__nonzero__',\n",
       " '__radd__',\n",
       " '__reduce__',\n",
       " '__reduce_ex__',\n",
       " '__repr__',\n",
       " '__setattr__',\n",
       " '__sizeof__',\n",
       " '__str__',\n",
       " '__subclasshook__',\n",
       " '__weakref__',\n",
       " '_per_letter_annotations',\n",
       " '_seq',\n",
       " '_set_per_letter_annotations',\n",
       " '_set_seq',\n",
       " 'annotations',\n",
       " 'dbxrefs',\n",
       " 'description',\n",
       " 'features',\n",
       " 'format',\n",
       " 'id',\n",
       " 'letter_annotations',\n",
       " 'lower',\n",
       " 'name',\n",
       " 'reverse_complement',\n",
       " 'seq',\n",
       " 'translate',\n",
       " 'upper']"
      ]
     },
     "execution_count": 16,
     "metadata": {},
     "output_type": "execute_result"
    }
   ],
   "source": [
    "dir(record)"
   ]
  },
  {
   "cell_type": "markdown",
   "metadata": {},
   "source": [
    "## Exercise 1\n",
    "\n",
    "Read in the file `data/multiple_sequences.gb`, write a for loop that will parse the contents of the genbank file outputting each sequence in FASTA format. Print a count of how many sequences are in that file.\n",
    "\n",
    "#### Bonus \n",
    "Calculate the mean length of the sequences.\n",
    "\n",
    "#### Bonus\n",
    "Write a function that returns the N50, and use it to calculate the N50 of the sequences"
   ]
  },
  {
   "cell_type": "code",
   "execution_count": 17,
   "metadata": {},
   "outputs": [
    {
     "name": "stdout",
     "output_type": "stream",
     "text": [
      ">FJ436046.1 Oryzias latipes Nanog (Nanog) mRNA, complete cds\n",
      "ATGGCGGAGTGGAAAACTCAGGTCAACTACAACCCCACATTCCATGCGTACACCTATGGC\n",
      "TTCGTGTATCAAACTGGGCCCGAACAGAACCACGTAACCGGGAACGACTGGAGCCAAAAC\n",
      "TGTGAGCAGAACGGCTACAACGGAGGACCCACGCAGTCTCATTTCCCCGCTAGGAGCCGG\n",
      "GAGGAGTCCCCACCACGCAGCCCGGAGCAGCAGCCTGAGAGCGGCCACTATTACCAGGAC\n",
      "TCCGGGGTGGTATACATCAGAGAGGCCCAGACGGGCCGCTTGGTTATGGCGGGACAGCAC\n",
      "CGGGTCGGTTTAGACAGCGGCGAAAACTGCACGAGACGGACCGGAAGCGATTCTGCCAGC\n",
      "GACTCCGAGGCACACACATCACCGGATTCTTGGAGTTCATGCAGCAACTATGACAGAAGT\n",
      "GTTCCTCAGACAGATCCTGTAGTTTGGGTCAAAAATGAAGAGCAGACTGGAGCAAGGAGC\n",
      "CCAGACCACAGCGAGGATGTCTCCAGCTCGCTCATGGTTGAGTCCCAATCTTTTGCAGTC\n",
      "CAAGACACAGGGGATGCAAGCAGTTCCACACATGCACCCTTCACCACCACAAAGAAACAA\n",
      "GCCAGCAGTACTCCAAACGCCCCGAAAGCTAAGGTCCGGGCAGCTTTCTCTGAGAGCCAG\n",
      "ATGAGCACTCTGGTGCAGCGCTTCAGCGTGCAGAGGTACCTCGCCCCAGCTGAGATGAAG\n",
      "AACCTGGCAGATGTGACTGGACTCACCTACAAGCAGGTGAAAACATGGTTTCAGAACCGT\n",
      "AGGATGAAGCTTAGGAGGCATCAGAAGGACACCAGCTGGGTTTCAGAGCGATATACAATC\n",
      "AACAAGGACAACACGGCTGCTGACACTGTATTCTCAAACGTGGCTCCACATGTCCCCCCT\n",
      "TATCAGGGGGATGGGATGTCCCATCTGCGGCATCACTACAACCAGCACATGATGGGGGCA\n",
      "GCTTTCAAGAATACCCCACACAACCTGGCCTTCTATCTGGCTGCCATGGGTAACCCCCCT\n",
      "GGAACTGCTGGTTACCCGCCATGGTCTTCCAGCCCCCCCCAGGCTGCGGTGCCCAGCAGA\n",
      "CCCCAGGTACCAGGATGGCCCCTGCCGCCAGGCCGCAGTCAGTTTGGATTCTGCCCAATT\n",
      "CCATACGACCCCTCCGACGCCGCCTCTTTGAACAACTTTGAGCGCAACGCAATCCCCGAC\n",
      "AGCAAAGACGGGGAGTCTGCTGGGGGTGCGAATGCAGCCATTTTGCACAATGCTGTCCAA\n",
      "TGA\n",
      "\n",
      ">JQ801747.1 Capra hircus NANOG (NANOG) mRNA, complete cds\n",
      "ACCCGGAGATCTTCACCTTTCTCTAAGTTTCTTCTATCTAGATTCTTCAGCCTGGACTTT\n",
      "TCCTAGCATCTAGCTCTTAGGTTTTTTCCTTCTCCTTCAACTCAACAACATGAGTGTGGA\n",
      "CCCAGCTTGTCCCCAAAGCCTGCTTGGCCCCGAAGCATCCAACTCTGGGGAATCTTCACC\n",
      "CATGCCTGAAGAAAGTTACGCATCCTTGCAAATGTCATCTGCTGACACCCTCGACACGGA\n",
      "CACTGTCTCTCCTCTTCCTTCCTCCATGGATCTGCTTATTCATGACAATCCTGATTCTTC\n",
      "CACAAGCCCTAGAGTGAAACCACTGTCCCCATCTGCGGAGGAGAGCACAGAGAAGGAAGA\n",
      "GAAGGTCCCCGTCAAGAAACAAAAGATCAGAACTGTGTTCTCACAGACCCAGCTGTGTGT\n",
      "GCTCAATGACAGATTTCAGAGGCAGAAATACCTCAGTCTCCAGCAAATGCAAGAACTTTC\n",
      "CAACATCTTGAACCTCAGCTACAAGCAGGTGAAGACCTGGTTCCAGAACCAGAGAATGAA\n",
      "ATGTAAGAAATGGCAGAAAAACAACTGGCCAAGGAATAGCAATGATGTGCCTCAGGACCC\n",
      "AGCAACGGCAGAATACCCCAGCTTCTATTCCTACCATCAGGGGTGTTTGGTGAACTCTCC\n",
      "TCGAAACATGCCCATGTGGGGTAACCAGACCTGGAATAACCCCACGTGGAGCAATCAGAA\n",
      "CTGGAACAGTCAGTCTTGGAGCAACCACTCCTGGAACAGTCAGGCCTGGTGCCCCCAAGC\n",
      "CTGGAATAACCAGCCTTGGAACAATCAATGCAACAACTACATGGAGGAATTCCTGCAGCC\n",
      "CGGGATCCAGCTCCAGCAGAATTCTCCCGTCTGTGATCTGGAGGCCACCCTGGGAACTGC\n",
      "TGGGGAAAATTATAACGTAATACAGCAAGCTGTCAAGTATTTCAGTTCCCAGCAGCAAAT\n",
      "CACTGATTTATTCCCAAACTACCCTCTCAACATACAGCCTGAAGATTTGTAACAGCTATT\n",
      "TGTGACGGCTATTGTATGGGATCTTGCTG\n",
      "\n",
      ">KU924010.1 Megalobrama amblycephala Nanog (nanog) gene, complete cds\n",
      "CTCCCACATCCACTCACCTGGCCTTATAAATCAGCTTCTCCACGCGTTTTTTTTTTATCA\n",
      "GGTCATGTTAAGGGGTTTTCTGCGTGACTATGAGGAGGAGAGCTTTTACCAGCATCTGTT\n",
      "TTCGGTAGTCGAACCCTTTGGGTTTTTGTAGTCAGGTTCTGTTAGTAGGTCCATCTCCGC\n",
      "ACTTTTGCTTTTTGCTCTGCGTTCATCCGACGAAGGAATGGCGGATTGGAAGATACCAGT\n",
      "GAGTTACAACTTCAACCCATCTTATCATGCGTATGCATACGGGCTCATGTACCCGCAGGT\n",
      "GTCTGAGCACGGCCACCCGAATCTGAGCTGGGCCGAGGCCGCGTACAGTCACTCCGGCGG\n",
      "GGTCACCGCGAGCTATTACTCCGCTCAAACCGCACAGCAGTCTCCACCCTGGAGCCCGGA\n",
      "GAACGGCGGTACGAGCAGCTACGGCAACTACCCGAGTCACACGCAGAACGGACGGCTCTT\n",
      "CATCTCCTATAATAAGACTGAGCCCGATCCAAAAGCCACAGAGGTAGAGCAGGCCGGCAG\n",
      "CGATACCCCCAGTGACTCAGAGGCCCATACGCCAGGTAACCTTCCTCTGATCATCAAGCC\n",
      "TCTCTAAAAAGTGGCAAAGGCAATTTAATCCCTAACAACTCACGGTTAATGCAGTAACAT\n",
      "CGTACTATTTCAGTGTTTATTAAAAAAAATATCGAAATTTAAGGGTTATTGGTGTACACT\n",
      "CTAGAAAATAGAGCTACTATTTCAAGTTTAACCAAATGTTAATATATGCCCTGTAGTTGT\n",
      "AACTTATAAAAATGTTCCTAGCGATTTTTATCAATATCCAGTGATTGTCTTGGTATTTAT\n",
      "ATACCACTGTAGTATTTATTAATATTTTGAATATGCTTTTCACTTTAATTTTAAGATTTA\n",
      "ATTTGTTGAATTCTATACCTTTTCCAATTTTAGTATGTTGAGTTAAATTCTTTTATAATT\n",
      "TATAATATAATTTATTTGCAAAAGCTACCCTCTATAAGTTTTTAATCTAAGATGCATGTT\n",
      "TGTTTTTTTTAAAGCTTAAAGGGGTAGTTCACCTAAAAATGAGAATTGTCATTCACTCAC\n",
      "CCTCAAGTTGTTCCAAACCTGTATGATTTTTTTTTTTTTTTTTTTCTGCTTAACACAAGA\n",
      "TATTGTCAGAAACAAAGTTGCTGGTCCATCAACTGTTTTAACCATATTCTTCAAAATATC\n",
      "ATCTCTTGTGTTCAGCACAAAAAAAAATTATACAGGTTTGGTACAACTTGAGGGTGTGTA\n",
      "AATGACAGAATTTTCACCTTTAGGTGAGCTATCCCTTTAAGTTCCATGACAAAAACAAAT\n",
      "TTTAATAGGTAGACAGTAGATTTTCAAAAATAACCCTGCCTTTATGTTCTGCTATATAAA\n",
      "CATGGTTTCAGGAAATGCAAGCAAATAAGCGTGTTTTAAAGGTTTATCAAATATTAAGTA\n",
      "CCAAATGTTATAATCCATGTTTGTTTTTCCTTCATTTGTATAGATTCCTGGAGCTCAGGG\n",
      "AGCAGTCATGAGGGGGCCGCTCTAAGCAACCTCAATCTCCCGTCCTGGAAAGATCGGGAC\n",
      "TATGAAACGGACAGTGGCAGTCCTGACAGCGGAGAACAGATCTCAAACTCTGTCTCTACC\n",
      "ACAGGAGAGGAGCCGGTGAGTCAGAATTTGGGGGTGGATGCCTTGCCGCCTCTGCCCAAT\n",
      "GTGACCCCATCTCCAGCCCGACCTCCAGCCCAGCCTCGCAAAACCCGGGCTGCGTTTTCT\n",
      "GAGGAGCAGATGAACGCTCTCATCCACCGGTTTAATGTCCAGAGGTACCTCACGCCCGCA\n",
      "GAGATGAAGACGCTTGCTGGAGCGACTGGACTAACGTACAAACAGGTTAGTGATCTAAAG\n",
      "AGAATGTTGTGCTAAAGCTTTAATGGATCTCATTCAGTGTCATGATGAATAACTCTCTAT\n",
      "TTCTTTCCAAAGGTGAAAACATGGTTTCAAAACCGTAGGATGAAACTCAAGAGGCATCAA\n",
      "AGAGATAGTAGTTGGATGACCGAGAGATACGTGGTTAATGGTGTAAACAACACACCAGCT\n",
      "AATCATTCACAGGTGAGGGTGGTTTCATGCCAAACACTGTGATTCCAAACCTGTATGTGT\n",
      "TTCTTCCTTCTGAGGAACACAAAATATTTTGAATGTTTTACAATTTGTTCCTGCAGTTAG\n",
      "TCAATGGGGTCCAAAACTACACTGTACACCACTTTCATTTATCTTTTTTTCTCAAGTCAT\n",
      "CTTTTCTTTCCAAAGATGAAAGTAATAGAGATTTGGAATGACACTTAAAGTGTCTATGCT\n",
      "GATGCTTGTTCTGTTTTGTTGTTAAAAGAACTGATCAAGTGTAGATGTAGAGCAAATTAT\n",
      "AATGTTCAAAGAAGGTATTTCAGTAATTTGGGTAGTGTCTTAAAGGCACAATGATTCGAA\n",
      "TTACCCACCATAAGCTGTAATTTAATAATAAAAATAAAAAAAGAGGCAAAAGCAGATGTT\n",
      "TTGAAGAACTGCTTATCCATGCTATGGAAGTCCATGGGGGTCCAAAACAACACTGAACCC\n",
      "CATTGACTTCTATTGTATGGTGTGGGTTTTTTTTTTTTTTTTTTTTTTTTTTTTTTTTTT\n",
      "TTCCCAAAAGTAATCGTCGTTCCACAGAATAAAGTCATGCAAGTTTGAAACAACAGTGTC\n",
      "TACACTGTTGCTTGTTCTGTCTTGTTGGTAGCAGAATTTATCAGTGTGGACATAGAGCAA\n",
      "GTTATCATCTACAAAGGAGGCATTTCAGTAGTTTGGATAATGTCTTAAAGGCACAATGAT\n",
      "ACAAATGACCCATCATAAGTTTTAATGTACTAAAATGAAGGCACATTCTAACCCCCATCA\n",
      "CTTTTAGTTTCAGACTGAAACCCCTCGAGCAAACCAAGACCACTACAGTAACCCTCAGTT\n",
      "GAGAGAGTCTCTGTTCAAGAGGAGTCCTCCACAAACGCCCTTCTACCCCAGCTACCCACA\n",
      "GCCACGCTCTCCTACCCAGGCCACCGCGAGACCCCCGGGAACCTGGCCTCTGCCCCCAGC\n",
      "TGTGACGCACTACGAGTTCCCCAACCCTACTAGCTACATGCAAGCCCGTGATGGCGGCAA\n",
      "TGCAGCGAACAAAGGAAGCAGCCCTACTCGAATGGCATCCATGCCTAGTACTGCCCAGTG\n",
      "GTCAACAAAAGGAATGACTTTGCTGTGAGTCTGGCTGCTTGTTTATATATTCATCGCCTT\n",
      "CAGCCCCGCAGCCCTGGGTGTTCACCGTATTTGTAAATATTTTATTTTTTGGCAACAAAC\n",
      "TGTTGGATATTTTTATGCATTGATGTCATGGGTTGCCAGTTGGGGCCAAGTGAGACATGT\n",
      "CTCAAGATTTTTTTTTTTTTTTTTTT\n",
      "\n",
      "Count: 3\n"
     ]
    }
   ],
   "source": [
    "from Bio import SeqIO\n",
    "\n",
    "count = 0\n",
    "for record in SeqIO.parse(\"data/multiple_sequences.gb\", 'genbank'):\n",
    "    print(record.format('fasta'))\n",
    "    count += 1\n",
    "\n",
    "print(\"Count: %s\" % count)\n",
    "\n",
    "#OR\n",
    "#for record in SeqIO.parse(\"data/multiple_sequences.gb\", 'genbank'):\n",
    "#    print(\">\"+record.id)\n",
    "#    print(str(record.seq))"
   ]
  },
  {
   "cell_type": "code",
   "execution_count": 18,
   "metadata": {},
   "outputs": [
    {
     "name": "stdout",
     "output_type": "stream",
     "text": [
      "Mean: 1879.3333333333333\n",
      "Numpy mean: 1879.3333333333333\n",
      "N50: 3326\n"
     ]
    }
   ],
   "source": [
    "import numpy as np\n",
    "\n",
    "def n50(lens):\n",
    "    h = sum(lens)/2        # half the total length\n",
    "    t = 0                  # running total\n",
    "    for l in sorted(lens): # need to sort the list of sequence lengths\n",
    "        t += l             # add the length to the running total\n",
    "        if t >= h:         # if the running total is greater than or equal half of the total length\n",
    "            return l       # return the length of the sequence (N50)\n",
    "        \n",
    "\n",
    "seqlens = []\n",
    "\n",
    "for record in SeqIO.parse(\"data/multiple_sequences.gb\", 'genbank'):\n",
    "    seqlens.append(len(record.seq))\n",
    "\n",
    "print(\"Mean:\", sum(seqlens)/len(seqlens))\n",
    "print(\"Numpy mean:\", np.mean(np.array(seqlens)))\n",
    "print(\"N50:\", n50(seqlens))"
   ]
  },
  {
   "cell_type": "markdown",
   "metadata": {},
   "source": [
    "### 1.5 BioAlign\n",
    "\n",
    "Another Biopython object that proves very useful in analysing biological data is the Align object that can store alignment data. As with SeqRecord objects you can use AlignIO.parse() to read from a file. To demonstrate other functionality we'll create an alignment by hand."
   ]
  },
  {
   "cell_type": "code",
   "execution_count": 19,
   "metadata": {},
   "outputs": [
    {
     "name": "stdout",
     "output_type": "stream",
     "text": [
      "DNAAlphabet() alignment with 3 rows and 12 columns\n",
      "ACTGCTAGCTAG Alpha\n",
      "ACT-CTAGCTAG Beta\n",
      "ACTGCTAGDTAG Gamma\n"
     ]
    }
   ],
   "source": [
    "from Bio.Align import MultipleSeqAlignment\n",
    "\n",
    "aln = MultipleSeqAlignment([\n",
    "             SeqRecord(Seq(\"ACTGCTAGCTAG\", generic_dna), id=\"Alpha\"),\n",
    "             SeqRecord(Seq(\"ACT-CTAGCTAG\", generic_dna), id=\"Beta\"),\n",
    "             SeqRecord(Seq(\"ACTGCTAGDTAG\", generic_dna), id=\"Gamma\"),\n",
    "         ])\n",
    "\n",
    "print(aln)"
   ]
  },
  {
   "cell_type": "code",
   "execution_count": 20,
   "metadata": {},
   "outputs": [
    {
     "name": "stdout",
     "output_type": "stream",
     "text": [
      "CLUSTAL X (1.81) multiple sequence alignment\n",
      "\n",
      "\n",
      "Alpha                               ACTGCTAGCTAG\n",
      "Beta                                ACT-CTAGCTAG\n",
      "Gamma                               ACTGCTAGDTAG\n",
      "\n",
      "\n",
      "\n"
     ]
    }
   ],
   "source": [
    "# You can then print this alignment in a different format\n",
    "print(aln.format('clustal'))"
   ]
  },
  {
   "cell_type": "code",
   "execution_count": 21,
   "metadata": {},
   "outputs": [
    {
     "name": "stdout",
     "output_type": "stream",
     "text": [
      "DNAAlphabet() alignment with 2 rows and 12 columns\n",
      "ACTGCTAGCTAG Alpha\n",
      "ACT-CTAGCTAG Beta\n",
      "DNAAlphabet() alignment with 2 rows and 9 columns\n",
      "-CTAGCTAG Beta\n",
      "GCTAGDTAG Gamma\n"
     ]
    }
   ],
   "source": [
    "# You can also select which rows and columns to print as you would using numpy\n",
    "print(aln[:2])\n",
    "\n",
    "print(aln[1: , 3:])"
   ]
  },
  {
   "cell_type": "markdown",
   "metadata": {},
   "source": [
    "## pysam\n",
    "\n",
    "Another library specifically written for biological data is pysam. This library is useful for reading and filtering SAM/BAM format files. "
   ]
  },
  {
   "cell_type": "code",
   "execution_count": 22,
   "metadata": {},
   "outputs": [],
   "source": [
    "import pysam"
   ]
  },
  {
   "cell_type": "markdown",
   "metadata": {},
   "source": [
    "pysam includes functions for reading in sam, cram and bam files."
   ]
  },
  {
   "cell_type": "code",
   "execution_count": 23,
   "metadata": {},
   "outputs": [],
   "source": [
    "samfile = pysam.AlignmentFile('data/ex1.bam', 'rb') # 'rb' stands for 'read bam', use 'rs' if the input is a sam file"
   ]
  },
  {
   "cell_type": "markdown",
   "metadata": {},
   "source": [
    "You can select reads that map to a particular region in the reference using `fetch()`."
   ]
  },
  {
   "cell_type": "code",
   "execution_count": 24,
   "metadata": {
    "scrolled": false
   },
   "outputs": [
    {
     "name": "stdout",
     "output_type": "stream",
     "text": [
      "EAS56_57:6:190:289:82\t137\t0\t99\t73\t35M\t0\t99\t35\tAGGGGTGCAGAGCCGAGTCACGGGGTTGCCAGCAC\tarray('B', [27, 27, 27, 27, 27, 27, 26, 27, 27, 27, 27, 27, 27, 27, 27, 27, 27, 26, 27, 27, 26, 27, 27, 27, 27, 26, 23, 27, 21, 26, 24, 26, 26, 17, 26])\t[('MF', 64), ('Aq', 0), ('NM', 0), ('UQ', 0), ('H0', 1), ('H1', 0)]\n",
      "EAS51_64:3:190:727:308\t99\t0\t102\t99\t35M\t0\t262\t35\tGGTGCAGAGCCGAGTCACGGGGTTGCCAGCACAGG\tarray('B', [27, 27, 27, 27, 27, 27, 27, 27, 27, 27, 27, 27, 27, 27, 27, 27, 27, 27, 27, 27, 27, 27, 27, 27, 27, 27, 27, 25, 25, 27, 27, 27, 23, 19, 19])\t[('MF', 18), ('Aq', 73), ('NM', 0), ('UQ', 0), ('H0', 1), ('H1', 0)]\n",
      "EAS112_34:7:141:80:875\t99\t0\t109\t99\t35M\t0\t264\t35\tAGCCGAGTCACGGGGTTGCCAGCACAGGGGCTTAA\tarray('B', [27, 27, 27, 27, 27, 27, 27, 27, 27, 27, 27, 27, 27, 27, 27, 27, 27, 27, 27, 27, 27, 27, 25, 27, 27, 23, 26, 27, 27, 23, 10, 22, 26, 12, 22])\t[('MF', 18), ('Aq', 69), ('NM', 0), ('UQ', 0), ('H0', 1), ('H1', 0)]\n"
     ]
    }
   ],
   "source": [
    "for read in samfile.fetch('chr1', 100, 110):\n",
    "    print(read)\n"
   ]
  },
  {
   "cell_type": "markdown",
   "metadata": {},
   "source": [
    "You can also look over a particular region by using the `pileup()` method. In this case, you retrieve information on each column in the range provided."
   ]
  },
  {
   "cell_type": "code",
   "execution_count": 25,
   "metadata": {},
   "outputs": [
    {
     "name": "stdout",
     "output_type": "stream",
     "text": [
      "\n",
      "coverage at base 102 = 1\n",
      "\tbase in read EAS51_64:3:190:727:308 = G\n",
      "\n",
      "coverage at base 103 = 1\n",
      "\tbase in read EAS51_64:3:190:727:308 = G\n",
      "\n",
      "coverage at base 104 = 1\n",
      "\tbase in read EAS51_64:3:190:727:308 = T\n",
      "\n",
      "coverage at base 105 = 1\n",
      "\tbase in read EAS51_64:3:190:727:308 = G\n",
      "\n",
      "coverage at base 106 = 1\n",
      "\tbase in read EAS51_64:3:190:727:308 = C\n",
      "\n",
      "coverage at base 107 = 1\n",
      "\tbase in read EAS51_64:3:190:727:308 = A\n",
      "\n",
      "coverage at base 108 = 1\n",
      "\tbase in read EAS51_64:3:190:727:308 = G\n",
      "\n",
      "coverage at base 109 = 2\n",
      "\tbase in read EAS51_64:3:190:727:308 = A\n",
      "\tbase in read EAS112_34:7:141:80:875 = A\n",
      "\n",
      "coverage at base 110 = 2\n",
      "\tbase in read EAS51_64:3:190:727:308 = G\n",
      "\tbase in read EAS112_34:7:141:80:875 = G\n",
      "\n",
      "coverage at base 111 = 3\n",
      "\tbase in read EAS51_64:3:190:727:308 = C\n",
      "\tbase in read EAS112_34:7:141:80:875 = C\n",
      "\tbase in read EAS219_FC30151:3:40:1128:1940 = C\n",
      "\n",
      "coverage at base 112 = 3\n",
      "\tbase in read EAS51_64:3:190:727:308 = C\n",
      "\tbase in read EAS112_34:7:141:80:875 = C\n",
      "\tbase in read EAS219_FC30151:3:40:1128:1940 = C\n",
      "\n",
      "coverage at base 113 = 3\n",
      "\tbase in read EAS51_64:3:190:727:308 = G\n",
      "\tbase in read EAS112_34:7:141:80:875 = G\n",
      "\tbase in read EAS219_FC30151:3:40:1128:1940 = G\n",
      "\n",
      "coverage at base 114 = 3\n",
      "\tbase in read EAS51_64:3:190:727:308 = A\n",
      "\tbase in read EAS112_34:7:141:80:875 = A\n",
      "\tbase in read EAS219_FC30151:3:40:1128:1940 = A\n",
      "\n",
      "coverage at base 115 = 3\n",
      "\tbase in read EAS51_64:3:190:727:308 = G\n",
      "\tbase in read EAS112_34:7:141:80:875 = G\n",
      "\tbase in read EAS219_FC30151:3:40:1128:1940 = G\n",
      "\n",
      "coverage at base 116 = 3\n",
      "\tbase in read EAS51_64:3:190:727:308 = T\n",
      "\tbase in read EAS112_34:7:141:80:875 = T\n",
      "\tbase in read EAS219_FC30151:3:40:1128:1940 = T\n",
      "\n",
      "coverage at base 117 = 3\n",
      "\tbase in read EAS51_64:3:190:727:308 = C\n",
      "\tbase in read EAS112_34:7:141:80:875 = C\n",
      "\tbase in read EAS219_FC30151:3:40:1128:1940 = C\n",
      "\n",
      "coverage at base 118 = 3\n",
      "\tbase in read EAS51_64:3:190:727:308 = A\n",
      "\tbase in read EAS112_34:7:141:80:875 = A\n",
      "\tbase in read EAS219_FC30151:3:40:1128:1940 = A\n",
      "\n",
      "coverage at base 119 = 3\n",
      "\tbase in read EAS51_64:3:190:727:308 = C\n",
      "\tbase in read EAS112_34:7:141:80:875 = C\n",
      "\tbase in read EAS219_FC30151:3:40:1128:1940 = C\n",
      "\n",
      "coverage at base 120 = 3\n",
      "\tbase in read EAS51_64:3:190:727:308 = G\n",
      "\tbase in read EAS112_34:7:141:80:875 = G\n",
      "\tbase in read EAS219_FC30151:3:40:1128:1940 = G\n",
      "\n",
      "coverage at base 121 = 3\n",
      "\tbase in read EAS51_64:3:190:727:308 = G\n",
      "\tbase in read EAS112_34:7:141:80:875 = G\n",
      "\tbase in read EAS219_FC30151:3:40:1128:1940 = G\n",
      "\n",
      "coverage at base 122 = 3\n",
      "\tbase in read EAS51_64:3:190:727:308 = G\n",
      "\tbase in read EAS112_34:7:141:80:875 = G\n",
      "\tbase in read EAS219_FC30151:3:40:1128:1940 = G\n",
      "\n",
      "coverage at base 123 = 3\n",
      "\tbase in read EAS51_64:3:190:727:308 = G\n",
      "\tbase in read EAS112_34:7:141:80:875 = G\n",
      "\tbase in read EAS219_FC30151:3:40:1128:1940 = G\n",
      "\n",
      "coverage at base 124 = 3\n",
      "\tbase in read EAS51_64:3:190:727:308 = T\n",
      "\tbase in read EAS112_34:7:141:80:875 = T\n",
      "\tbase in read EAS219_FC30151:3:40:1128:1940 = T\n",
      "\n",
      "coverage at base 125 = 3\n",
      "\tbase in read EAS51_64:3:190:727:308 = T\n",
      "\tbase in read EAS112_34:7:141:80:875 = T\n",
      "\tbase in read EAS219_FC30151:3:40:1128:1940 = T\n",
      "\n",
      "coverage at base 126 = 3\n",
      "\tbase in read EAS51_64:3:190:727:308 = G\n",
      "\tbase in read EAS112_34:7:141:80:875 = G\n",
      "\tbase in read EAS219_FC30151:3:40:1128:1940 = G\n",
      "\n",
      "coverage at base 127 = 3\n",
      "\tbase in read EAS51_64:3:190:727:308 = C\n",
      "\tbase in read EAS112_34:7:141:80:875 = C\n",
      "\tbase in read EAS219_FC30151:3:40:1128:1940 = C\n",
      "\n",
      "coverage at base 128 = 3\n",
      "\tbase in read EAS51_64:3:190:727:308 = C\n",
      "\tbase in read EAS112_34:7:141:80:875 = C\n",
      "\tbase in read EAS219_FC30151:3:40:1128:1940 = C\n",
      "\n",
      "coverage at base 129 = 3\n",
      "\tbase in read EAS51_64:3:190:727:308 = A\n",
      "\tbase in read EAS112_34:7:141:80:875 = A\n",
      "\tbase in read EAS219_FC30151:3:40:1128:1940 = A\n",
      "\n",
      "coverage at base 130 = 3\n",
      "\tbase in read EAS51_64:3:190:727:308 = G\n",
      "\tbase in read EAS112_34:7:141:80:875 = G\n",
      "\tbase in read EAS219_FC30151:3:40:1128:1940 = G\n",
      "\n",
      "coverage at base 131 = 3\n",
      "\tbase in read EAS51_64:3:190:727:308 = C\n",
      "\tbase in read EAS112_34:7:141:80:875 = C\n",
      "\tbase in read EAS219_FC30151:3:40:1128:1940 = C\n",
      "\n",
      "coverage at base 132 = 3\n",
      "\tbase in read EAS51_64:3:190:727:308 = A\n",
      "\tbase in read EAS112_34:7:141:80:875 = A\n",
      "\tbase in read EAS219_FC30151:3:40:1128:1940 = A\n",
      "\n",
      "coverage at base 133 = 3\n",
      "\tbase in read EAS51_64:3:190:727:308 = C\n",
      "\tbase in read EAS112_34:7:141:80:875 = C\n",
      "\tbase in read EAS219_FC30151:3:40:1128:1940 = C\n",
      "\n",
      "coverage at base 134 = 3\n",
      "\tbase in read EAS51_64:3:190:727:308 = A\n",
      "\tbase in read EAS112_34:7:141:80:875 = A\n",
      "\tbase in read EAS219_FC30151:3:40:1128:1940 = A\n",
      "\n",
      "coverage at base 135 = 3\n",
      "\tbase in read EAS51_64:3:190:727:308 = G\n",
      "\tbase in read EAS112_34:7:141:80:875 = G\n",
      "\tbase in read EAS219_FC30151:3:40:1128:1940 = G\n",
      "\n",
      "coverage at base 136 = 3\n",
      "\tbase in read EAS51_64:3:190:727:308 = G\n",
      "\tbase in read EAS112_34:7:141:80:875 = G\n",
      "\tbase in read EAS219_FC30151:3:40:1128:1940 = G\n",
      "\n",
      "coverage at base 137 = 2\n",
      "\tbase in read EAS112_34:7:141:80:875 = G\n",
      "\tbase in read EAS219_FC30151:3:40:1128:1940 = G\n",
      "\n",
      "coverage at base 138 = 2\n",
      "\tbase in read EAS112_34:7:141:80:875 = G\n",
      "\tbase in read EAS219_FC30151:3:40:1128:1940 = G\n",
      "\n",
      "coverage at base 139 = 2\n",
      "\tbase in read EAS219_FC30151:3:40:1128:1940 = C\n",
      "\n",
      "coverage at base 140 = 2\n",
      "\tbase in read EAS112_34:7:141:80:875 = T\n",
      "\tbase in read EAS219_FC30151:3:40:1128:1940 = T\n",
      "\n",
      "coverage at base 141 = 2\n",
      "\tbase in read EAS112_34:7:141:80:875 = T\n",
      "\tbase in read EAS219_FC30151:3:40:1128:1940 = T\n",
      "\n",
      "coverage at base 142 = 2\n",
      "\tbase in read EAS219_FC30151:3:40:1128:1940 = A\n",
      "\n",
      "coverage at base 143 = 2\n",
      "\tbase in read EAS112_34:7:141:80:875 = A\n",
      "\tbase in read EAS219_FC30151:3:40:1128:1940 = A\n",
      "\n",
      "coverage at base 144 = 1\n",
      "\tbase in read EAS219_FC30151:3:40:1128:1940 = C\n",
      "\n",
      "coverage at base 145 = 1\n",
      "\tbase in read EAS219_FC30151:3:40:1128:1940 = C\n"
     ]
    }
   ],
   "source": [
    "for pileupcolumn in samfile.pileup(\"chr1\", 100, 120):\n",
    "    print (\"\\ncoverage at base %s = %s\" %\n",
    "           (pileupcolumn.pos, pileupcolumn.n))\n",
    "    for pileupread in pileupcolumn.pileups:\n",
    "        if not pileupread.is_del and not pileupread.is_refskip:\n",
    "            # query position is None if is_del or is_refskip is set.\n",
    "            print ('\\tbase in read %s = %s' %\n",
    "                  (pileupread.alignment.query_name,\n",
    "                   pileupread.alignment.query_sequence[pileupread.query_position]))"
   ]
  },
  {
   "cell_type": "markdown",
   "metadata": {},
   "source": [
    "`pysam` even allows you to run samtools commands within python. \n",
    "\n",
    "*Note*: the following will only work if samtools is loaded into the virtual environment."
   ]
  },
  {
   "cell_type": "code",
   "execution_count": 26,
   "metadata": {},
   "outputs": [
    {
     "name": "stdout",
     "output_type": "stream",
     "text": [
      "-rw-r--r-- 1 trf5 it_staff 122K May 18 13:56 data/ex1.bam\r\n",
      "-rw-r--r-- 1 trf5 it_staff 122K May 18 15:27 data/ex1.sorted.bam\r\n"
     ]
    }
   ],
   "source": [
    "pysam.sort(\"-o\", \"data/ex1.sorted.bam\", \"data/ex1.bam\")\n",
    "! ls -ltrh data/*.bam"
   ]
  },
  {
   "cell_type": "markdown",
   "metadata": {},
   "source": [
    "## Exercise 2\n",
    "\n",
    "Using `pysam` count the number of reads that map properly in pairs to chromosome 1.\n",
    "\n",
    "#### Bonus\n",
    "Count the reads that map perfectly (i.e. no indels or mismatches) to chromosome 1. Hint - have a look at the SAM cigar"
   ]
  },
  {
   "cell_type": "code",
   "execution_count": 27,
   "metadata": {},
   "outputs": [
    {
     "name": "stdout",
     "output_type": "stream",
     "text": [
      "All reads: 1464\n",
      "Properly paired reads: 1424 (97.27%)\n"
     ]
    }
   ],
   "source": [
    "tot = 0\n",
    "count = 0\n",
    "for read in samfile.fetch('chr1'):\n",
    "    tot += 1\n",
    "    if read.is_proper_pair:\n",
    "        count += 1\n",
    "\n",
    "print(\"All reads:\", tot)\n",
    "print(\"Properly paired reads: {0} ({1:.2f}%)\".format(count, count/tot*100))\n"
   ]
  },
  {
   "cell_type": "code",
   "execution_count": 28,
   "metadata": {},
   "outputs": [
    {
     "name": "stdout",
     "output_type": "stream",
     "text": [
      "All reads: 1464\n",
      "Properly paired reads: 1443 (98.57%)\n"
     ]
    }
   ],
   "source": [
    "tot = 0\n",
    "count =0\n",
    "for read in samfile.fetch('chr1'):\n",
    "    tot += 1\n",
    "    if str(read.query_length) + 'M' == read.cigarstring:\n",
    "        count += 1\n",
    "\n",
    "print(\"All reads:\", tot)\n",
    "print(\"Properly paired reads: {0} ({1:.2f}%)\".format(count, count/tot*100))"
   ]
  },
  {
   "cell_type": "code",
   "execution_count": null,
   "metadata": {},
   "outputs": [],
   "source": []
  }
 ],
 "metadata": {
  "kernelspec": {
   "display_name": "Python 3",
   "language": "python",
   "name": "python3"
  },
  "language_info": {
   "codemirror_mode": {
    "name": "ipython",
    "version": 3
   },
   "file_extension": ".py",
   "mimetype": "text/x-python",
   "name": "python",
   "nbconvert_exporter": "python",
   "pygments_lexer": "ipython3",
   "version": "3.6.4"
  }
 },
 "nbformat": 4,
 "nbformat_minor": 2
}
